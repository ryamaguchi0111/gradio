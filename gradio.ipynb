{
  "nbformat": 4,
  "nbformat_minor": 0,
  "metadata": {
    "colab": {
      "name": "gradio.ipynb",
      "provenance": [],
      "collapsed_sections": [],
      "authorship_tag": "ABX9TyM9w07xQ0yl7WtodkyHNOC7",
      "include_colab_link": true
    },
    "kernelspec": {
      "name": "python3",
      "display_name": "Python 3"
    }
  },
  "cells": [
    {
      "cell_type": "markdown",
      "metadata": {
        "id": "view-in-github",
        "colab_type": "text"
      },
      "source": [
        "<a href=\"https://colab.research.google.com/github/ryamaguchi0111/gradio/blob/master/gradio.ipynb\" target=\"_parent\"><img src=\"https://colab.research.google.com/assets/colab-badge.svg\" alt=\"Open In Colab\"/></a>"
      ]
    },
    {
      "cell_type": "markdown",
      "metadata": {
        "id": "zYfsc0yI1SRb",
        "colab_type": "text"
      },
      "source": [
        "# gradio に入門\n",
        "参考↓  \n",
        "https://cpp-learning.com/gradio/"
      ]
    },
    {
      "cell_type": "code",
      "metadata": {
        "id": "4L_bpvNCrA6g",
        "colab_type": "code",
        "colab": {
          "base_uri": "https://localhost:8080/",
          "height": 102
        },
        "outputId": "f9151aa1-c07c-4cb9-a49c-4faa709a1d00"
      },
      "source": [
        "!pip install -q gradio"
      ],
      "execution_count": null,
      "outputs": [
        {
          "output_type": "stream",
          "text": [
            "\u001b[K     |████████████████████████████████| 1.4MB 5.3MB/s \n",
            "\u001b[K     |████████████████████████████████| 215kB 33.6MB/s \n",
            "\u001b[K     |████████████████████████████████| 962kB 22.5MB/s \n",
            "\u001b[K     |████████████████████████████████| 2.7MB 48.4MB/s \n",
            "\u001b[K     |████████████████████████████████| 61kB 7.1MB/s \n",
            "\u001b[?25h"
          ],
          "name": "stdout"
        }
      ]
    },
    {
      "cell_type": "code",
      "metadata": {
        "id": "Mp8fcg3MsBQ5",
        "colab_type": "code",
        "colab": {}
      },
      "source": [
        "import gradio as gr\n",
        "import torch\n",
        "from torchvision import transforms \n",
        "import requests\n",
        "from PIL import Image"
      ],
      "execution_count": null,
      "outputs": []
    },
    {
      "cell_type": "code",
      "metadata": {
        "id": "CMYeLOjXsBKJ",
        "colab_type": "code",
        "colab": {
          "base_uri": "https://localhost:8080/",
          "height": 34
        },
        "outputId": "fd3078fa-813a-4ca5-bc81-601d920f456e"
      },
      "source": [
        "model = torch.hub.load('zhanghang1989/ResNeSt', 'resnest50', pretrained=True)\n",
        "model.eval()\n",
        "\n",
        "response = requests.get('https://git.io/JJkYN')\n",
        "labels = response.text.split('\\n')"
      ],
      "execution_count": null,
      "outputs": [
        {
          "output_type": "stream",
          "text": [
            "Using cache found in /root/.cache/torch/hub/zhanghang1989_ResNeSt_master\n"
          ],
          "name": "stderr"
        }
      ]
    },
    {
      "cell_type": "code",
      "metadata": {
        "id": "-Ih6wxrksBC1",
        "colab_type": "code",
        "colab": {}
      },
      "source": [
        "def predict(inp):\n",
        "    inp = Image.fromarray(inp.astype('uint8'), 'RGB')\n",
        "    inp = transforms.ToTensor()(inp).unsqueeze(0)\n",
        "    with torch.no_grad():\n",
        "        prediction = torch.nn.functional.softmax(model(inp)[0], dim=0) \n",
        "    return {labels[i]: float(prediction[i]) for i in range(1000)}"
      ],
      "execution_count": null,
      "outputs": []
    },
    {
      "cell_type": "code",
      "metadata": {
        "id": "ptqy3-X7sAuz",
        "colab_type": "code",
        "colab": {
          "base_uri": "https://localhost:8080/",
          "height": 642
        },
        "outputId": "5ff005fd-15a0-4957-dbbe-5b4a428ac086"
      },
      "source": [
        "inputs = gr.inputs.Image()\n",
        "outputs = gr.outputs.Label(num_top_classes=5)\n",
        "interface = gr.Interface(fn=predict, inputs=inputs, outputs=outputs)\n",
        "\n",
        "interface.launch()"
      ],
      "execution_count": null,
      "outputs": [
        {
          "output_type": "stream",
          "text": [
            "Colab notebook detected. To show errors in colab notebook, set debug=True in launch()\n",
            "Running on External URL: https://12535.gradio.app\n",
            "Interface loading below...\n"
          ],
          "name": "stdout"
        },
        {
          "output_type": "display_data",
          "data": {
            "text/html": [
              "\n",
              "        <iframe\n",
              "            width=\"1000\"\n",
              "            height=\"500\"\n",
              "            src=\"https://12535.gradio.app\"\n",
              "            frameborder=\"0\"\n",
              "            allowfullscreen\n",
              "        ></iframe>\n",
              "        "
            ],
            "text/plain": [
              "<IPython.lib.display.IFrame at 0x7fbd09e47c50>"
            ]
          },
          "metadata": {
            "tags": []
          }
        },
        {
          "output_type": "execute_result",
          "data": {
            "text/plain": [
              "(<gradio.networking.serve_files_in_background.<locals>.HTTPServer at 0x7fbd09e47c88>,\n",
              " 'http://127.0.0.1:7862/',\n",
              " 'https://12535.gradio.app')"
            ]
          },
          "metadata": {
            "tags": []
          },
          "execution_count": 12
        }
      ]
    },
    {
      "cell_type": "markdown",
      "metadata": {
        "id": "8VImEnueveus",
        "colab_type": "text"
      },
      "source": [
        ""
      ]
    },
    {
      "cell_type": "code",
      "metadata": {
        "id": "GIwW1GoOt4j1",
        "colab_type": "code",
        "colab": {}
      },
      "source": [
        ""
      ],
      "execution_count": null,
      "outputs": []
    },
    {
      "cell_type": "code",
      "metadata": {
        "id": "MGI8ktOHt4fw",
        "colab_type": "code",
        "colab": {}
      },
      "source": [
        ""
      ],
      "execution_count": null,
      "outputs": []
    },
    {
      "cell_type": "code",
      "metadata": {
        "id": "PH8WXMmrt4F2",
        "colab_type": "code",
        "colab": {}
      },
      "source": [
        ""
      ],
      "execution_count": null,
      "outputs": []
    }
  ]
}
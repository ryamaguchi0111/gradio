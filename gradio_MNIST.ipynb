{
  "nbformat": 4,
  "nbformat_minor": 0,
  "metadata": {
    "colab": {
      "name": "gradio_MNIST.ipynb ",
      "provenance": [],
      "collapsed_sections": [],
      "authorship_tag": "ABX9TyOnumbeLG9tldWOBt9aSjcR",
      "include_colab_link": true
    },
    "kernelspec": {
      "name": "python3",
      "display_name": "Python 3"
    },
    "widgets": {
      "application/vnd.jupyter.widget-state+json": {
        "5a93066d70414b8284101ab957509f3f": {
          "model_module": "@jupyter-widgets/controls",
          "model_name": "HBoxModel",
          "state": {
            "_view_name": "HBoxView",
            "_dom_classes": [],
            "_model_name": "HBoxModel",
            "_view_module": "@jupyter-widgets/controls",
            "_model_module_version": "1.5.0",
            "_view_count": null,
            "_view_module_version": "1.5.0",
            "box_style": "",
            "layout": "IPY_MODEL_16f06ca9f4f3449b9b61e59fbda0e2aa",
            "_model_module": "@jupyter-widgets/controls",
            "children": [
              "IPY_MODEL_88a78175bbf64147a3021fc04e6c4e2b",
              "IPY_MODEL_4c21996d44f649f2b6246026fcfb1bd7"
            ]
          }
        },
        "16f06ca9f4f3449b9b61e59fbda0e2aa": {
          "model_module": "@jupyter-widgets/base",
          "model_name": "LayoutModel",
          "state": {
            "_view_name": "LayoutView",
            "grid_template_rows": null,
            "right": null,
            "justify_content": null,
            "_view_module": "@jupyter-widgets/base",
            "overflow": null,
            "_model_module_version": "1.2.0",
            "_view_count": null,
            "flex_flow": null,
            "width": null,
            "min_width": null,
            "border": null,
            "align_items": null,
            "bottom": null,
            "_model_module": "@jupyter-widgets/base",
            "top": null,
            "grid_column": null,
            "overflow_y": null,
            "overflow_x": null,
            "grid_auto_flow": null,
            "grid_area": null,
            "grid_template_columns": null,
            "flex": null,
            "_model_name": "LayoutModel",
            "justify_items": null,
            "grid_row": null,
            "max_height": null,
            "align_content": null,
            "visibility": null,
            "align_self": null,
            "height": null,
            "min_height": null,
            "padding": null,
            "grid_auto_rows": null,
            "grid_gap": null,
            "max_width": null,
            "order": null,
            "_view_module_version": "1.2.0",
            "grid_template_areas": null,
            "object_position": null,
            "object_fit": null,
            "grid_auto_columns": null,
            "margin": null,
            "display": null,
            "left": null
          }
        },
        "88a78175bbf64147a3021fc04e6c4e2b": {
          "model_module": "@jupyter-widgets/controls",
          "model_name": "FloatProgressModel",
          "state": {
            "_view_name": "ProgressView",
            "style": "IPY_MODEL_52727736141c4d9c9db1ca201665313f",
            "_dom_classes": [],
            "description": "",
            "_model_name": "FloatProgressModel",
            "bar_style": "info",
            "max": 1,
            "_view_module": "@jupyter-widgets/controls",
            "_model_module_version": "1.5.0",
            "value": 1,
            "_view_count": null,
            "_view_module_version": "1.5.0",
            "orientation": "horizontal",
            "min": 0,
            "description_tooltip": null,
            "_model_module": "@jupyter-widgets/controls",
            "layout": "IPY_MODEL_818c912df6a24a109f30a909a6087e13"
          }
        },
        "4c21996d44f649f2b6246026fcfb1bd7": {
          "model_module": "@jupyter-widgets/controls",
          "model_name": "HTMLModel",
          "state": {
            "_view_name": "HTMLView",
            "style": "IPY_MODEL_ccee8df87f5d471fac2e209b54d5a05d",
            "_dom_classes": [],
            "description": "",
            "_model_name": "HTMLModel",
            "placeholder": "​",
            "_view_module": "@jupyter-widgets/controls",
            "_model_module_version": "1.5.0",
            "value": " 9920512/? [00:20&lt;00:00, 12881701.84it/s]",
            "_view_count": null,
            "_view_module_version": "1.5.0",
            "description_tooltip": null,
            "_model_module": "@jupyter-widgets/controls",
            "layout": "IPY_MODEL_1bf52a4731534e2eb3555520f761a6be"
          }
        },
        "52727736141c4d9c9db1ca201665313f": {
          "model_module": "@jupyter-widgets/controls",
          "model_name": "ProgressStyleModel",
          "state": {
            "_view_name": "StyleView",
            "_model_name": "ProgressStyleModel",
            "description_width": "initial",
            "_view_module": "@jupyter-widgets/base",
            "_model_module_version": "1.5.0",
            "_view_count": null,
            "_view_module_version": "1.2.0",
            "bar_color": null,
            "_model_module": "@jupyter-widgets/controls"
          }
        },
        "818c912df6a24a109f30a909a6087e13": {
          "model_module": "@jupyter-widgets/base",
          "model_name": "LayoutModel",
          "state": {
            "_view_name": "LayoutView",
            "grid_template_rows": null,
            "right": null,
            "justify_content": null,
            "_view_module": "@jupyter-widgets/base",
            "overflow": null,
            "_model_module_version": "1.2.0",
            "_view_count": null,
            "flex_flow": null,
            "width": null,
            "min_width": null,
            "border": null,
            "align_items": null,
            "bottom": null,
            "_model_module": "@jupyter-widgets/base",
            "top": null,
            "grid_column": null,
            "overflow_y": null,
            "overflow_x": null,
            "grid_auto_flow": null,
            "grid_area": null,
            "grid_template_columns": null,
            "flex": null,
            "_model_name": "LayoutModel",
            "justify_items": null,
            "grid_row": null,
            "max_height": null,
            "align_content": null,
            "visibility": null,
            "align_self": null,
            "height": null,
            "min_height": null,
            "padding": null,
            "grid_auto_rows": null,
            "grid_gap": null,
            "max_width": null,
            "order": null,
            "_view_module_version": "1.2.0",
            "grid_template_areas": null,
            "object_position": null,
            "object_fit": null,
            "grid_auto_columns": null,
            "margin": null,
            "display": null,
            "left": null
          }
        },
        "ccee8df87f5d471fac2e209b54d5a05d": {
          "model_module": "@jupyter-widgets/controls",
          "model_name": "DescriptionStyleModel",
          "state": {
            "_view_name": "StyleView",
            "_model_name": "DescriptionStyleModel",
            "description_width": "",
            "_view_module": "@jupyter-widgets/base",
            "_model_module_version": "1.5.0",
            "_view_count": null,
            "_view_module_version": "1.2.0",
            "_model_module": "@jupyter-widgets/controls"
          }
        },
        "1bf52a4731534e2eb3555520f761a6be": {
          "model_module": "@jupyter-widgets/base",
          "model_name": "LayoutModel",
          "state": {
            "_view_name": "LayoutView",
            "grid_template_rows": null,
            "right": null,
            "justify_content": null,
            "_view_module": "@jupyter-widgets/base",
            "overflow": null,
            "_model_module_version": "1.2.0",
            "_view_count": null,
            "flex_flow": null,
            "width": null,
            "min_width": null,
            "border": null,
            "align_items": null,
            "bottom": null,
            "_model_module": "@jupyter-widgets/base",
            "top": null,
            "grid_column": null,
            "overflow_y": null,
            "overflow_x": null,
            "grid_auto_flow": null,
            "grid_area": null,
            "grid_template_columns": null,
            "flex": null,
            "_model_name": "LayoutModel",
            "justify_items": null,
            "grid_row": null,
            "max_height": null,
            "align_content": null,
            "visibility": null,
            "align_self": null,
            "height": null,
            "min_height": null,
            "padding": null,
            "grid_auto_rows": null,
            "grid_gap": null,
            "max_width": null,
            "order": null,
            "_view_module_version": "1.2.0",
            "grid_template_areas": null,
            "object_position": null,
            "object_fit": null,
            "grid_auto_columns": null,
            "margin": null,
            "display": null,
            "left": null
          }
        },
        "7d1505b1869e4a05a2069e90592b9481": {
          "model_module": "@jupyter-widgets/controls",
          "model_name": "HBoxModel",
          "state": {
            "_view_name": "HBoxView",
            "_dom_classes": [],
            "_model_name": "HBoxModel",
            "_view_module": "@jupyter-widgets/controls",
            "_model_module_version": "1.5.0",
            "_view_count": null,
            "_view_module_version": "1.5.0",
            "box_style": "",
            "layout": "IPY_MODEL_12aa331d152c4020b5cf68ae6213d815",
            "_model_module": "@jupyter-widgets/controls",
            "children": [
              "IPY_MODEL_cd123445c4be4569864086dc44e72bf3",
              "IPY_MODEL_47c7db171b8c4c93ae398b54122a792e"
            ]
          }
        },
        "12aa331d152c4020b5cf68ae6213d815": {
          "model_module": "@jupyter-widgets/base",
          "model_name": "LayoutModel",
          "state": {
            "_view_name": "LayoutView",
            "grid_template_rows": null,
            "right": null,
            "justify_content": null,
            "_view_module": "@jupyter-widgets/base",
            "overflow": null,
            "_model_module_version": "1.2.0",
            "_view_count": null,
            "flex_flow": null,
            "width": null,
            "min_width": null,
            "border": null,
            "align_items": null,
            "bottom": null,
            "_model_module": "@jupyter-widgets/base",
            "top": null,
            "grid_column": null,
            "overflow_y": null,
            "overflow_x": null,
            "grid_auto_flow": null,
            "grid_area": null,
            "grid_template_columns": null,
            "flex": null,
            "_model_name": "LayoutModel",
            "justify_items": null,
            "grid_row": null,
            "max_height": null,
            "align_content": null,
            "visibility": null,
            "align_self": null,
            "height": null,
            "min_height": null,
            "padding": null,
            "grid_auto_rows": null,
            "grid_gap": null,
            "max_width": null,
            "order": null,
            "_view_module_version": "1.2.0",
            "grid_template_areas": null,
            "object_position": null,
            "object_fit": null,
            "grid_auto_columns": null,
            "margin": null,
            "display": null,
            "left": null
          }
        },
        "cd123445c4be4569864086dc44e72bf3": {
          "model_module": "@jupyter-widgets/controls",
          "model_name": "FloatProgressModel",
          "state": {
            "_view_name": "ProgressView",
            "style": "IPY_MODEL_dcf90374ddae4eb38a5acc3295d6114e",
            "_dom_classes": [],
            "description": "",
            "_model_name": "FloatProgressModel",
            "bar_style": "success",
            "max": 1,
            "_view_module": "@jupyter-widgets/controls",
            "_model_module_version": "1.5.0",
            "value": 1,
            "_view_count": null,
            "_view_module_version": "1.5.0",
            "orientation": "horizontal",
            "min": 0,
            "description_tooltip": null,
            "_model_module": "@jupyter-widgets/controls",
            "layout": "IPY_MODEL_ee0298c357a54090bf66ec13b02430a8"
          }
        },
        "47c7db171b8c4c93ae398b54122a792e": {
          "model_module": "@jupyter-widgets/controls",
          "model_name": "HTMLModel",
          "state": {
            "_view_name": "HTMLView",
            "style": "IPY_MODEL_00273a6174ab402d9539e3a116c48f50",
            "_dom_classes": [],
            "description": "",
            "_model_name": "HTMLModel",
            "placeholder": "​",
            "_view_module": "@jupyter-widgets/controls",
            "_model_module_version": "1.5.0",
            "value": " 32768/? [00:00&lt;00:00, 152932.72it/s]",
            "_view_count": null,
            "_view_module_version": "1.5.0",
            "description_tooltip": null,
            "_model_module": "@jupyter-widgets/controls",
            "layout": "IPY_MODEL_cf6b5c0454074be9b64bda1da716403a"
          }
        },
        "dcf90374ddae4eb38a5acc3295d6114e": {
          "model_module": "@jupyter-widgets/controls",
          "model_name": "ProgressStyleModel",
          "state": {
            "_view_name": "StyleView",
            "_model_name": "ProgressStyleModel",
            "description_width": "initial",
            "_view_module": "@jupyter-widgets/base",
            "_model_module_version": "1.5.0",
            "_view_count": null,
            "_view_module_version": "1.2.0",
            "bar_color": null,
            "_model_module": "@jupyter-widgets/controls"
          }
        },
        "ee0298c357a54090bf66ec13b02430a8": {
          "model_module": "@jupyter-widgets/base",
          "model_name": "LayoutModel",
          "state": {
            "_view_name": "LayoutView",
            "grid_template_rows": null,
            "right": null,
            "justify_content": null,
            "_view_module": "@jupyter-widgets/base",
            "overflow": null,
            "_model_module_version": "1.2.0",
            "_view_count": null,
            "flex_flow": null,
            "width": null,
            "min_width": null,
            "border": null,
            "align_items": null,
            "bottom": null,
            "_model_module": "@jupyter-widgets/base",
            "top": null,
            "grid_column": null,
            "overflow_y": null,
            "overflow_x": null,
            "grid_auto_flow": null,
            "grid_area": null,
            "grid_template_columns": null,
            "flex": null,
            "_model_name": "LayoutModel",
            "justify_items": null,
            "grid_row": null,
            "max_height": null,
            "align_content": null,
            "visibility": null,
            "align_self": null,
            "height": null,
            "min_height": null,
            "padding": null,
            "grid_auto_rows": null,
            "grid_gap": null,
            "max_width": null,
            "order": null,
            "_view_module_version": "1.2.0",
            "grid_template_areas": null,
            "object_position": null,
            "object_fit": null,
            "grid_auto_columns": null,
            "margin": null,
            "display": null,
            "left": null
          }
        },
        "00273a6174ab402d9539e3a116c48f50": {
          "model_module": "@jupyter-widgets/controls",
          "model_name": "DescriptionStyleModel",
          "state": {
            "_view_name": "StyleView",
            "_model_name": "DescriptionStyleModel",
            "description_width": "",
            "_view_module": "@jupyter-widgets/base",
            "_model_module_version": "1.5.0",
            "_view_count": null,
            "_view_module_version": "1.2.0",
            "_model_module": "@jupyter-widgets/controls"
          }
        },
        "cf6b5c0454074be9b64bda1da716403a": {
          "model_module": "@jupyter-widgets/base",
          "model_name": "LayoutModel",
          "state": {
            "_view_name": "LayoutView",
            "grid_template_rows": null,
            "right": null,
            "justify_content": null,
            "_view_module": "@jupyter-widgets/base",
            "overflow": null,
            "_model_module_version": "1.2.0",
            "_view_count": null,
            "flex_flow": null,
            "width": null,
            "min_width": null,
            "border": null,
            "align_items": null,
            "bottom": null,
            "_model_module": "@jupyter-widgets/base",
            "top": null,
            "grid_column": null,
            "overflow_y": null,
            "overflow_x": null,
            "grid_auto_flow": null,
            "grid_area": null,
            "grid_template_columns": null,
            "flex": null,
            "_model_name": "LayoutModel",
            "justify_items": null,
            "grid_row": null,
            "max_height": null,
            "align_content": null,
            "visibility": null,
            "align_self": null,
            "height": null,
            "min_height": null,
            "padding": null,
            "grid_auto_rows": null,
            "grid_gap": null,
            "max_width": null,
            "order": null,
            "_view_module_version": "1.2.0",
            "grid_template_areas": null,
            "object_position": null,
            "object_fit": null,
            "grid_auto_columns": null,
            "margin": null,
            "display": null,
            "left": null
          }
        },
        "f6c1504783774ea98458b1bc8275db6b": {
          "model_module": "@jupyter-widgets/controls",
          "model_name": "HBoxModel",
          "state": {
            "_view_name": "HBoxView",
            "_dom_classes": [],
            "_model_name": "HBoxModel",
            "_view_module": "@jupyter-widgets/controls",
            "_model_module_version": "1.5.0",
            "_view_count": null,
            "_view_module_version": "1.5.0",
            "box_style": "",
            "layout": "IPY_MODEL_5967455f998746b1879d4ac888465952",
            "_model_module": "@jupyter-widgets/controls",
            "children": [
              "IPY_MODEL_c83f9a25ba8b47b9993e4194c9757279",
              "IPY_MODEL_327fe806d6d24bdfb0a8793f675fa049"
            ]
          }
        },
        "5967455f998746b1879d4ac888465952": {
          "model_module": "@jupyter-widgets/base",
          "model_name": "LayoutModel",
          "state": {
            "_view_name": "LayoutView",
            "grid_template_rows": null,
            "right": null,
            "justify_content": null,
            "_view_module": "@jupyter-widgets/base",
            "overflow": null,
            "_model_module_version": "1.2.0",
            "_view_count": null,
            "flex_flow": null,
            "width": null,
            "min_width": null,
            "border": null,
            "align_items": null,
            "bottom": null,
            "_model_module": "@jupyter-widgets/base",
            "top": null,
            "grid_column": null,
            "overflow_y": null,
            "overflow_x": null,
            "grid_auto_flow": null,
            "grid_area": null,
            "grid_template_columns": null,
            "flex": null,
            "_model_name": "LayoutModel",
            "justify_items": null,
            "grid_row": null,
            "max_height": null,
            "align_content": null,
            "visibility": null,
            "align_self": null,
            "height": null,
            "min_height": null,
            "padding": null,
            "grid_auto_rows": null,
            "grid_gap": null,
            "max_width": null,
            "order": null,
            "_view_module_version": "1.2.0",
            "grid_template_areas": null,
            "object_position": null,
            "object_fit": null,
            "grid_auto_columns": null,
            "margin": null,
            "display": null,
            "left": null
          }
        },
        "c83f9a25ba8b47b9993e4194c9757279": {
          "model_module": "@jupyter-widgets/controls",
          "model_name": "FloatProgressModel",
          "state": {
            "_view_name": "ProgressView",
            "style": "IPY_MODEL_5f619bcefad641e5aa3e7e381af77697",
            "_dom_classes": [],
            "description": "",
            "_model_name": "FloatProgressModel",
            "bar_style": "info",
            "max": 1,
            "_view_module": "@jupyter-widgets/controls",
            "_model_module_version": "1.5.0",
            "value": 1,
            "_view_count": null,
            "_view_module_version": "1.5.0",
            "orientation": "horizontal",
            "min": 0,
            "description_tooltip": null,
            "_model_module": "@jupyter-widgets/controls",
            "layout": "IPY_MODEL_f7c8ac2cdc3443cf908588c0b14fe2d7"
          }
        },
        "327fe806d6d24bdfb0a8793f675fa049": {
          "model_module": "@jupyter-widgets/controls",
          "model_name": "HTMLModel",
          "state": {
            "_view_name": "HTMLView",
            "style": "IPY_MODEL_a71b4c0032834db38789cdcc903e2198",
            "_dom_classes": [],
            "description": "",
            "_model_name": "HTMLModel",
            "placeholder": "​",
            "_view_module": "@jupyter-widgets/controls",
            "_model_module_version": "1.5.0",
            "value": " 1654784/? [00:19&lt;00:00, 9857826.20it/s]",
            "_view_count": null,
            "_view_module_version": "1.5.0",
            "description_tooltip": null,
            "_model_module": "@jupyter-widgets/controls",
            "layout": "IPY_MODEL_ea9cab9d22bd4c2a9a3acfe791181024"
          }
        },
        "5f619bcefad641e5aa3e7e381af77697": {
          "model_module": "@jupyter-widgets/controls",
          "model_name": "ProgressStyleModel",
          "state": {
            "_view_name": "StyleView",
            "_model_name": "ProgressStyleModel",
            "description_width": "initial",
            "_view_module": "@jupyter-widgets/base",
            "_model_module_version": "1.5.0",
            "_view_count": null,
            "_view_module_version": "1.2.0",
            "bar_color": null,
            "_model_module": "@jupyter-widgets/controls"
          }
        },
        "f7c8ac2cdc3443cf908588c0b14fe2d7": {
          "model_module": "@jupyter-widgets/base",
          "model_name": "LayoutModel",
          "state": {
            "_view_name": "LayoutView",
            "grid_template_rows": null,
            "right": null,
            "justify_content": null,
            "_view_module": "@jupyter-widgets/base",
            "overflow": null,
            "_model_module_version": "1.2.0",
            "_view_count": null,
            "flex_flow": null,
            "width": null,
            "min_width": null,
            "border": null,
            "align_items": null,
            "bottom": null,
            "_model_module": "@jupyter-widgets/base",
            "top": null,
            "grid_column": null,
            "overflow_y": null,
            "overflow_x": null,
            "grid_auto_flow": null,
            "grid_area": null,
            "grid_template_columns": null,
            "flex": null,
            "_model_name": "LayoutModel",
            "justify_items": null,
            "grid_row": null,
            "max_height": null,
            "align_content": null,
            "visibility": null,
            "align_self": null,
            "height": null,
            "min_height": null,
            "padding": null,
            "grid_auto_rows": null,
            "grid_gap": null,
            "max_width": null,
            "order": null,
            "_view_module_version": "1.2.0",
            "grid_template_areas": null,
            "object_position": null,
            "object_fit": null,
            "grid_auto_columns": null,
            "margin": null,
            "display": null,
            "left": null
          }
        },
        "a71b4c0032834db38789cdcc903e2198": {
          "model_module": "@jupyter-widgets/controls",
          "model_name": "DescriptionStyleModel",
          "state": {
            "_view_name": "StyleView",
            "_model_name": "DescriptionStyleModel",
            "description_width": "",
            "_view_module": "@jupyter-widgets/base",
            "_model_module_version": "1.5.0",
            "_view_count": null,
            "_view_module_version": "1.2.0",
            "_model_module": "@jupyter-widgets/controls"
          }
        },
        "ea9cab9d22bd4c2a9a3acfe791181024": {
          "model_module": "@jupyter-widgets/base",
          "model_name": "LayoutModel",
          "state": {
            "_view_name": "LayoutView",
            "grid_template_rows": null,
            "right": null,
            "justify_content": null,
            "_view_module": "@jupyter-widgets/base",
            "overflow": null,
            "_model_module_version": "1.2.0",
            "_view_count": null,
            "flex_flow": null,
            "width": null,
            "min_width": null,
            "border": null,
            "align_items": null,
            "bottom": null,
            "_model_module": "@jupyter-widgets/base",
            "top": null,
            "grid_column": null,
            "overflow_y": null,
            "overflow_x": null,
            "grid_auto_flow": null,
            "grid_area": null,
            "grid_template_columns": null,
            "flex": null,
            "_model_name": "LayoutModel",
            "justify_items": null,
            "grid_row": null,
            "max_height": null,
            "align_content": null,
            "visibility": null,
            "align_self": null,
            "height": null,
            "min_height": null,
            "padding": null,
            "grid_auto_rows": null,
            "grid_gap": null,
            "max_width": null,
            "order": null,
            "_view_module_version": "1.2.0",
            "grid_template_areas": null,
            "object_position": null,
            "object_fit": null,
            "grid_auto_columns": null,
            "margin": null,
            "display": null,
            "left": null
          }
        },
        "7b9c36d1efd9492b8c6df7912a9c87a6": {
          "model_module": "@jupyter-widgets/controls",
          "model_name": "HBoxModel",
          "state": {
            "_view_name": "HBoxView",
            "_dom_classes": [],
            "_model_name": "HBoxModel",
            "_view_module": "@jupyter-widgets/controls",
            "_model_module_version": "1.5.0",
            "_view_count": null,
            "_view_module_version": "1.5.0",
            "box_style": "",
            "layout": "IPY_MODEL_0cd5b67de02b400db5a81c3ed5f4e450",
            "_model_module": "@jupyter-widgets/controls",
            "children": [
              "IPY_MODEL_dc271160f17246b5b01cfa19a319731b",
              "IPY_MODEL_2d7176b394354379985c0c78e102a0ea"
            ]
          }
        },
        "0cd5b67de02b400db5a81c3ed5f4e450": {
          "model_module": "@jupyter-widgets/base",
          "model_name": "LayoutModel",
          "state": {
            "_view_name": "LayoutView",
            "grid_template_rows": null,
            "right": null,
            "justify_content": null,
            "_view_module": "@jupyter-widgets/base",
            "overflow": null,
            "_model_module_version": "1.2.0",
            "_view_count": null,
            "flex_flow": null,
            "width": null,
            "min_width": null,
            "border": null,
            "align_items": null,
            "bottom": null,
            "_model_module": "@jupyter-widgets/base",
            "top": null,
            "grid_column": null,
            "overflow_y": null,
            "overflow_x": null,
            "grid_auto_flow": null,
            "grid_area": null,
            "grid_template_columns": null,
            "flex": null,
            "_model_name": "LayoutModel",
            "justify_items": null,
            "grid_row": null,
            "max_height": null,
            "align_content": null,
            "visibility": null,
            "align_self": null,
            "height": null,
            "min_height": null,
            "padding": null,
            "grid_auto_rows": null,
            "grid_gap": null,
            "max_width": null,
            "order": null,
            "_view_module_version": "1.2.0",
            "grid_template_areas": null,
            "object_position": null,
            "object_fit": null,
            "grid_auto_columns": null,
            "margin": null,
            "display": null,
            "left": null
          }
        },
        "dc271160f17246b5b01cfa19a319731b": {
          "model_module": "@jupyter-widgets/controls",
          "model_name": "FloatProgressModel",
          "state": {
            "_view_name": "ProgressView",
            "style": "IPY_MODEL_1e4daa2da4c24a1981c1e3d0e8c5c2d4",
            "_dom_classes": [],
            "description": "  0%",
            "_model_name": "FloatProgressModel",
            "bar_style": "info",
            "max": 1,
            "_view_module": "@jupyter-widgets/controls",
            "_model_module_version": "1.5.0",
            "value": 0,
            "_view_count": null,
            "_view_module_version": "1.5.0",
            "orientation": "horizontal",
            "min": 0,
            "description_tooltip": null,
            "_model_module": "@jupyter-widgets/controls",
            "layout": "IPY_MODEL_cc1626c572ff46a188aa7a14e18afe06"
          }
        },
        "2d7176b394354379985c0c78e102a0ea": {
          "model_module": "@jupyter-widgets/controls",
          "model_name": "HTMLModel",
          "state": {
            "_view_name": "HTMLView",
            "style": "IPY_MODEL_399afdeb67b14079a97438b7cb5db65c",
            "_dom_classes": [],
            "description": "",
            "_model_name": "HTMLModel",
            "placeholder": "​",
            "_view_module": "@jupyter-widgets/controls",
            "_model_module_version": "1.5.0",
            "value": " 0/4542 [00:00&lt;?, ?it/s]",
            "_view_count": null,
            "_view_module_version": "1.5.0",
            "description_tooltip": null,
            "_model_module": "@jupyter-widgets/controls",
            "layout": "IPY_MODEL_49254adb392b4adaa5078db61a8bdbaa"
          }
        },
        "1e4daa2da4c24a1981c1e3d0e8c5c2d4": {
          "model_module": "@jupyter-widgets/controls",
          "model_name": "ProgressStyleModel",
          "state": {
            "_view_name": "StyleView",
            "_model_name": "ProgressStyleModel",
            "description_width": "initial",
            "_view_module": "@jupyter-widgets/base",
            "_model_module_version": "1.5.0",
            "_view_count": null,
            "_view_module_version": "1.2.0",
            "bar_color": null,
            "_model_module": "@jupyter-widgets/controls"
          }
        },
        "cc1626c572ff46a188aa7a14e18afe06": {
          "model_module": "@jupyter-widgets/base",
          "model_name": "LayoutModel",
          "state": {
            "_view_name": "LayoutView",
            "grid_template_rows": null,
            "right": null,
            "justify_content": null,
            "_view_module": "@jupyter-widgets/base",
            "overflow": null,
            "_model_module_version": "1.2.0",
            "_view_count": null,
            "flex_flow": null,
            "width": null,
            "min_width": null,
            "border": null,
            "align_items": null,
            "bottom": null,
            "_model_module": "@jupyter-widgets/base",
            "top": null,
            "grid_column": null,
            "overflow_y": null,
            "overflow_x": null,
            "grid_auto_flow": null,
            "grid_area": null,
            "grid_template_columns": null,
            "flex": null,
            "_model_name": "LayoutModel",
            "justify_items": null,
            "grid_row": null,
            "max_height": null,
            "align_content": null,
            "visibility": null,
            "align_self": null,
            "height": null,
            "min_height": null,
            "padding": null,
            "grid_auto_rows": null,
            "grid_gap": null,
            "max_width": null,
            "order": null,
            "_view_module_version": "1.2.0",
            "grid_template_areas": null,
            "object_position": null,
            "object_fit": null,
            "grid_auto_columns": null,
            "margin": null,
            "display": null,
            "left": null
          }
        },
        "399afdeb67b14079a97438b7cb5db65c": {
          "model_module": "@jupyter-widgets/controls",
          "model_name": "DescriptionStyleModel",
          "state": {
            "_view_name": "StyleView",
            "_model_name": "DescriptionStyleModel",
            "description_width": "",
            "_view_module": "@jupyter-widgets/base",
            "_model_module_version": "1.5.0",
            "_view_count": null,
            "_view_module_version": "1.2.0",
            "_model_module": "@jupyter-widgets/controls"
          }
        },
        "49254adb392b4adaa5078db61a8bdbaa": {
          "model_module": "@jupyter-widgets/base",
          "model_name": "LayoutModel",
          "state": {
            "_view_name": "LayoutView",
            "grid_template_rows": null,
            "right": null,
            "justify_content": null,
            "_view_module": "@jupyter-widgets/base",
            "overflow": null,
            "_model_module_version": "1.2.0",
            "_view_count": null,
            "flex_flow": null,
            "width": null,
            "min_width": null,
            "border": null,
            "align_items": null,
            "bottom": null,
            "_model_module": "@jupyter-widgets/base",
            "top": null,
            "grid_column": null,
            "overflow_y": null,
            "overflow_x": null,
            "grid_auto_flow": null,
            "grid_area": null,
            "grid_template_columns": null,
            "flex": null,
            "_model_name": "LayoutModel",
            "justify_items": null,
            "grid_row": null,
            "max_height": null,
            "align_content": null,
            "visibility": null,
            "align_self": null,
            "height": null,
            "min_height": null,
            "padding": null,
            "grid_auto_rows": null,
            "grid_gap": null,
            "max_width": null,
            "order": null,
            "_view_module_version": "1.2.0",
            "grid_template_areas": null,
            "object_position": null,
            "object_fit": null,
            "grid_auto_columns": null,
            "margin": null,
            "display": null,
            "left": null
          }
        }
      }
    }
  },
  "cells": [
    {
      "cell_type": "markdown",
      "metadata": {
        "id": "view-in-github",
        "colab_type": "text"
      },
      "source": [
        "<a href=\"https://colab.research.google.com/github/ryamaguchi0111/gradio/blob/master/gradio_MNIST.ipynb\" target=\"_parent\"><img src=\"https://colab.research.google.com/assets/colab-badge.svg\" alt=\"Open In Colab\"/></a>"
      ]
    },
    {
      "cell_type": "markdown",
      "metadata": {
        "id": "zYfsc0yI1SRb",
        "colab_type": "text"
      },
      "source": [
        "# NMISTを使ってgradio に入門\n",
        "参考↓  \n",
        "https://cpp-learning.com/gradio/"
      ]
    },
    {
      "cell_type": "markdown",
      "metadata": {
        "id": "zlg9r2-w2yGh",
        "colab_type": "text"
      },
      "source": [
        "# 必要なモジュールのインストール"
      ]
    },
    {
      "cell_type": "code",
      "metadata": {
        "id": "4L_bpvNCrA6g",
        "colab_type": "code",
        "colab": {
          "base_uri": "https://localhost:8080/",
          "height": 102
        },
        "outputId": "06356190-8963-4960-c458-75d85fa6eca9"
      },
      "source": [
        "!pip install -q gradio"
      ],
      "execution_count": 2,
      "outputs": [
        {
          "output_type": "stream",
          "text": [
            "\u001b[K     |████████████████████████████████| 1.4MB 2.8MB/s \n",
            "\u001b[K     |████████████████████████████████| 215kB 17.6MB/s \n",
            "\u001b[K     |████████████████████████████████| 61kB 6.9MB/s \n",
            "\u001b[K     |████████████████████████████████| 2.7MB 15.4MB/s \n",
            "\u001b[K     |████████████████████████████████| 962kB 38.5MB/s \n",
            "\u001b[?25h"
          ],
          "name": "stdout"
        }
      ]
    },
    {
      "cell_type": "markdown",
      "metadata": {
        "id": "oWfDtaHg2lAs",
        "colab_type": "text"
      },
      "source": [
        "# 必要なモジュールのインポート"
      ]
    },
    {
      "cell_type": "code",
      "metadata": {
        "id": "Mp8fcg3MsBQ5",
        "colab_type": "code",
        "colab": {}
      },
      "source": [
        "import gradio as gr\n",
        "\n",
        "import torch\n",
        "import torch.nn as nn\n",
        "import torch.nn.functional as f\n",
        "from torch.utils.data import DataLoader\n",
        "from torchvision import datasets, transforms\n",
        "from torch.autograd import Variable\n",
        "\n",
        "import requests\n",
        "from PIL import Image"
      ],
      "execution_count": 12,
      "outputs": []
    },
    {
      "cell_type": "markdown",
      "metadata": {
        "id": "SBOI3jsE3JLK",
        "colab_type": "text"
      },
      "source": [
        "# ネットワークの構築\n"
      ]
    },
    {
      "cell_type": "code",
      "metadata": {
        "id": "ed7lrPkX3UC4",
        "colab_type": "code",
        "colab": {}
      },
      "source": [
        "class EasyNet(nn.Module):\n",
        "    def __init__(self):\n",
        "        super(EasyNet, self).__init__()\n",
        "        self.fc1 = nn.Linear(28*28, 1000)\n",
        "        self.fc2 = nn.Linear(1000, 10)\n",
        "\n",
        "    def forward(self, x):\n",
        "        h = torch.sigmoid(self.fc1(x))\n",
        "        h = self.fc2(h)\n",
        "        h = f.log_softmax(h, dim=1)\n",
        "\n",
        "        return h"
      ],
      "execution_count": 22,
      "outputs": []
    },
    {
      "cell_type": "code",
      "metadata": {
        "id": "_QjsX3QA4SsR",
        "colab_type": "code",
        "colab": {
          "base_uri": "https://localhost:8080/",
          "height": 85
        },
        "outputId": "fabe7ede-1355-4bc7-c85e-65658cab5b2c"
      },
      "source": [
        "net = EasyNet()\n",
        "print(net)"
      ],
      "execution_count": 9,
      "outputs": [
        {
          "output_type": "stream",
          "text": [
            "EasyNet(\n",
            "  (fc1): Linear(in_features=784, out_features=1000, bias=True)\n",
            "  (fc2): Linear(in_features=1000, out_features=10, bias=True)\n",
            ")\n"
          ],
          "name": "stdout"
        }
      ]
    },
    {
      "cell_type": "markdown",
      "metadata": {
        "id": "P1hHGCOK4cRn",
        "colab_type": "text"
      },
      "source": [
        "# dataset, dataloader の作成"
      ]
    },
    {
      "cell_type": "code",
      "metadata": {
        "id": "z9qk3IEe4b-1",
        "colab_type": "code",
        "colab": {
          "base_uri": "https://localhost:8080/",
          "height": 386,
          "referenced_widgets": [
            "5a93066d70414b8284101ab957509f3f",
            "16f06ca9f4f3449b9b61e59fbda0e2aa",
            "88a78175bbf64147a3021fc04e6c4e2b",
            "4c21996d44f649f2b6246026fcfb1bd7",
            "52727736141c4d9c9db1ca201665313f",
            "818c912df6a24a109f30a909a6087e13",
            "ccee8df87f5d471fac2e209b54d5a05d",
            "1bf52a4731534e2eb3555520f761a6be",
            "7d1505b1869e4a05a2069e90592b9481",
            "12aa331d152c4020b5cf68ae6213d815",
            "cd123445c4be4569864086dc44e72bf3",
            "47c7db171b8c4c93ae398b54122a792e",
            "dcf90374ddae4eb38a5acc3295d6114e",
            "ee0298c357a54090bf66ec13b02430a8",
            "00273a6174ab402d9539e3a116c48f50",
            "cf6b5c0454074be9b64bda1da716403a",
            "f6c1504783774ea98458b1bc8275db6b",
            "5967455f998746b1879d4ac888465952",
            "c83f9a25ba8b47b9993e4194c9757279",
            "327fe806d6d24bdfb0a8793f675fa049",
            "5f619bcefad641e5aa3e7e381af77697",
            "f7c8ac2cdc3443cf908588c0b14fe2d7",
            "a71b4c0032834db38789cdcc903e2198",
            "ea9cab9d22bd4c2a9a3acfe791181024",
            "7b9c36d1efd9492b8c6df7912a9c87a6",
            "0cd5b67de02b400db5a81c3ed5f4e450",
            "dc271160f17246b5b01cfa19a319731b",
            "2d7176b394354379985c0c78e102a0ea",
            "1e4daa2da4c24a1981c1e3d0e8c5c2d4",
            "cc1626c572ff46a188aa7a14e18afe06",
            "399afdeb67b14079a97438b7cb5db65c",
            "49254adb392b4adaa5078db61a8bdbaa"
          ]
        },
        "outputId": "c9f3954d-fc4e-479e-c6a3-8f7e2342b936"
      },
      "source": [
        "transform = transforms.Compose([transforms.ToTensor(), transforms.Normalize((0.5,), (0.5,))])\n",
        "\n",
        "train_datasets = datasets.MNIST(root='./data',\n",
        "                                train=True,\n",
        "                                download=True,\n",
        "                                transform=transform)\n",
        "test_datasets  = datasets.MNIST(root='./data',\n",
        "                                train=False,\n",
        "                                download=True,\n",
        "                                transform=transform)\n",
        "\n",
        "train_dataloader = DataLoader(train_datasets, \n",
        "                              batch_size=100,\n",
        "                              shuffle=True,\n",
        "                              num_workers=2)\n",
        "test_dataloader  = DataLoader(test_datasets,\n",
        "                              batch_size=100,\n",
        "                              shuffle=False,\n",
        "                              num_workers=2)"
      ],
      "execution_count": 6,
      "outputs": [
        {
          "output_type": "stream",
          "text": [
            "Downloading http://yann.lecun.com/exdb/mnist/train-images-idx3-ubyte.gz to ./data/MNIST/raw/train-images-idx3-ubyte.gz\n"
          ],
          "name": "stdout"
        },
        {
          "output_type": "display_data",
          "data": {
            "application/vnd.jupyter.widget-view+json": {
              "model_id": "5a93066d70414b8284101ab957509f3f",
              "version_minor": 0,
              "version_major": 2
            },
            "text/plain": [
              "HBox(children=(FloatProgress(value=1.0, bar_style='info', max=1.0), HTML(value='')))"
            ]
          },
          "metadata": {
            "tags": []
          }
        },
        {
          "output_type": "stream",
          "text": [
            "Extracting ./data/MNIST/raw/train-images-idx3-ubyte.gz to ./data/MNIST/raw\n",
            "Downloading http://yann.lecun.com/exdb/mnist/train-labels-idx1-ubyte.gz to ./data/MNIST/raw/train-labels-idx1-ubyte.gz\n"
          ],
          "name": "stdout"
        },
        {
          "output_type": "display_data",
          "data": {
            "application/vnd.jupyter.widget-view+json": {
              "model_id": "7d1505b1869e4a05a2069e90592b9481",
              "version_minor": 0,
              "version_major": 2
            },
            "text/plain": [
              "HBox(children=(FloatProgress(value=1.0, bar_style='info', max=1.0), HTML(value='')))"
            ]
          },
          "metadata": {
            "tags": []
          }
        },
        {
          "output_type": "stream",
          "text": [
            "Extracting ./data/MNIST/raw/train-labels-idx1-ubyte.gz to ./data/MNIST/raw\n",
            "Downloading http://yann.lecun.com/exdb/mnist/t10k-images-idx3-ubyte.gz to ./data/MNIST/raw/t10k-images-idx3-ubyte.gz\n",
            "\n"
          ],
          "name": "stdout"
        },
        {
          "output_type": "display_data",
          "data": {
            "application/vnd.jupyter.widget-view+json": {
              "model_id": "f6c1504783774ea98458b1bc8275db6b",
              "version_minor": 0,
              "version_major": 2
            },
            "text/plain": [
              "HBox(children=(FloatProgress(value=1.0, bar_style='info', max=1.0), HTML(value='')))"
            ]
          },
          "metadata": {
            "tags": []
          }
        },
        {
          "output_type": "stream",
          "text": [
            "Extracting ./data/MNIST/raw/t10k-images-idx3-ubyte.gz to ./data/MNIST/raw\n",
            "Downloading http://yann.lecun.com/exdb/mnist/t10k-labels-idx1-ubyte.gz to ./data/MNIST/raw/t10k-labels-idx1-ubyte.gz\n"
          ],
          "name": "stdout"
        },
        {
          "output_type": "display_data",
          "data": {
            "application/vnd.jupyter.widget-view+json": {
              "model_id": "7b9c36d1efd9492b8c6df7912a9c87a6",
              "version_minor": 0,
              "version_major": 2
            },
            "text/plain": [
              "HBox(children=(FloatProgress(value=1.0, bar_style='info', max=1.0), HTML(value='')))"
            ]
          },
          "metadata": {
            "tags": []
          }
        },
        {
          "output_type": "stream",
          "text": [
            "Extracting ./data/MNIST/raw/t10k-labels-idx1-ubyte.gz to ./data/MNIST/raw\n",
            "Processing...\n",
            "Done!\n"
          ],
          "name": "stdout"
        },
        {
          "output_type": "stream",
          "text": [
            "/usr/local/lib/python3.6/dist-packages/torchvision/datasets/mnist.py:469: UserWarning: The given NumPy array is not writeable, and PyTorch does not support non-writeable tensors. This means you can write to the underlying (supposedly non-writeable) NumPy array using the tensor. You may want to copy the array to protect its data or make it writeable before converting it to a tensor. This type of warning will be suppressed for the rest of this program. (Triggered internally at  /pytorch/torch/csrc/utils/tensor_numpy.cpp:141.)\n",
            "  return torch.from_numpy(parsed.astype(m[2], copy=False)).view(*s)\n"
          ],
          "name": "stderr"
        }
      ]
    },
    {
      "cell_type": "markdown",
      "metadata": {
        "id": "DP9A6IuB6jCj",
        "colab_type": "text"
      },
      "source": [
        "学習"
      ]
    },
    {
      "cell_type": "code",
      "metadata": {
        "id": "34i50he26jQL",
        "colab_type": "code",
        "colab": {
          "base_uri": "https://localhost:8080/",
          "height": 1000
        },
        "outputId": "cb690a12-e27d-4be6-ecd7-c5a444bf1ac3"
      },
      "source": [
        "\n",
        "history = {\n",
        "    'train_loss': [],\n",
        "    'test_loss': [],\n",
        "    'test_acc': []\n",
        "}\n",
        "\n",
        "net = EasyNet()\n",
        "\n",
        "\n",
        "optimizer = torch.optim.Adam(params=net.parameters(), lr=0.001)\n",
        "\n",
        "epoch = 20\n",
        "\n",
        "for e in range(epoch):\n",
        "\n",
        "     \"\"\" Training Part\"\"\"\n",
        "     loss = None\n",
        "\n",
        "     # 学習開始 (再開)\n",
        "     net.train(True)  # 引数は省略可能\n",
        "\n",
        "     for i, (data, target) in enumerate(train_dataloader):\n",
        "        ########## 学習部分 ##########\n",
        "        data = data.view(-1, 28*28)\n",
        "        # data = Variable(data, requires_grad=True)\n",
        "\n",
        "        optimizer.zero_grad()\n",
        "\n",
        "        out = net(data)\n",
        "\n",
        "        loss = f.nll_loss(out, target)\n",
        "        loss.backward()\n",
        "        optimizer.step()\n",
        "\n",
        "        if i % 100 == 0:\n",
        "            print(f'Training loss: {e+1} epoch ({(i+1)*128} / 60000 train. data). loss: {loss.item()}')\n",
        "\n",
        "        history['train_loss'].append(loss)\n",
        "\n",
        "     \"\"\" Test Part \"\"\"\n",
        "     # 学習のストップ\n",
        "     net.eval()  # または net.train(False) でも良い\n",
        "     test_loss = 0\n",
        "     correct = 0\n",
        "\n",
        "     with torch.no_grad():  # テスト部分では勾配は使わないのでこのように書く\n",
        "         for data, target in test_dataloader:\n",
        "             ########## テスト部分 ##########\n",
        "             data = data.view(-1, 28*28)\n",
        "             out = net(data)\n",
        "             test_loss = f.nll_loss(out, target, reduction='sum').item()\n",
        "             pred = out.argmax(dim=1, keepdim=True)\n",
        "             correct += pred.eq(target.view_as(pred)).sum().item()\n",
        "     test_loss /= 10000\n",
        "\n",
        "     print(f'Test loss (avg): {test_loss}, Acciracy: {correct / 10000}')\n",
        "\n",
        "     history['test_loss'].append(test_loss)\n",
        "     history['test_acc'].append(correct / 10000)"
      ],
      "execution_count": 23,
      "outputs": [
        {
          "output_type": "stream",
          "text": [
            "Training loss: 1 epoch (128 / 60000 train. data). loss: 2.3826744556427\n",
            "Training loss: 1 epoch (12928 / 60000 train. data). loss: 0.28015023469924927\n",
            "Training loss: 1 epoch (25728 / 60000 train. data). loss: 0.31580689549446106\n",
            "Training loss: 1 epoch (38528 / 60000 train. data). loss: 0.33446621894836426\n",
            "Training loss: 1 epoch (51328 / 60000 train. data). loss: 0.3126375079154968\n",
            "Training loss: 1 epoch (64128 / 60000 train. data). loss: 0.27933359146118164\n",
            "Test loss (avg): 0.0032220958709716797, Acciracy: 0.9311\n",
            "Training loss: 2 epoch (128 / 60000 train. data). loss: 0.18336699903011322\n",
            "Training loss: 2 epoch (12928 / 60000 train. data). loss: 0.2375209927558899\n",
            "Training loss: 2 epoch (25728 / 60000 train. data). loss: 0.3432992696762085\n",
            "Training loss: 2 epoch (38528 / 60000 train. data). loss: 0.14960208535194397\n",
            "Training loss: 2 epoch (51328 / 60000 train. data). loss: 0.09133890271186829\n",
            "Training loss: 2 epoch (64128 / 60000 train. data). loss: 0.1195264458656311\n"
          ],
          "name": "stdout"
        },
        {
          "output_type": "stream",
          "text": [
            "Exception ignored in: <bound method _MultiProcessingDataLoaderIter.__del__ of <torch.utils.data.dataloader._MultiProcessingDataLoaderIter object at 0x7fd40f677b70>>\n",
            "Traceback (most recent call last):\n",
            "  File \"/usr/local/lib/python3.6/dist-packages/torch/utils/data/dataloader.py\", line 1101, in __del__\n",
            "    self._shutdown_workers()\n",
            "  File \"/usr/local/lib/python3.6/dist-packages/torch/utils/data/dataloader.py\", line 1075, in _shutdown_workers\n",
            "    w.join(timeout=_utils.MP_STATUS_CHECK_INTERVAL)\n",
            "  File \"/usr/lib/python3.6/multiprocessing/process.py\", line 122, in join\n",
            "    assert self._parent_pid == os.getpid(), 'can only join a child process'\n",
            "AssertionError: can only join a child process\n",
            "Exception ignored in: <bound method _MultiProcessingDataLoaderIter.__del__ of <torch.utils.data.dataloader._MultiProcessingDataLoaderIter object at 0x7fd40f677b70>>\n",
            "Traceback (most recent call last):\n",
            "  File \"/usr/local/lib/python3.6/dist-packages/torch/utils/data/dataloader.py\", line 1101, in __del__\n",
            "    self._shutdown_workers()\n",
            "  File \"/usr/local/lib/python3.6/dist-packages/torch/utils/data/dataloader.py\", line 1075, in _shutdown_workers\n",
            "    w.join(timeout=_utils.MP_STATUS_CHECK_INTERVAL)\n",
            "  File \"/usr/lib/python3.6/multiprocessing/process.py\", line 122, in join\n",
            "    assert self._parent_pid == os.getpid(), 'can only join a child process'\n",
            "AssertionError: can only join a child process\n"
          ],
          "name": "stderr"
        },
        {
          "output_type": "stream",
          "text": [
            "Test loss (avg): 0.0021036081314086915, Acciracy: 0.956\n",
            "Training loss: 3 epoch (128 / 60000 train. data). loss: 0.23659424483776093\n",
            "Training loss: 3 epoch (12928 / 60000 train. data). loss: 0.13355232775211334\n",
            "Training loss: 3 epoch (25728 / 60000 train. data). loss: 0.07192034274339676\n",
            "Training loss: 3 epoch (38528 / 60000 train. data). loss: 0.09911748766899109\n",
            "Training loss: 3 epoch (51328 / 60000 train. data). loss: 0.07218758016824722\n",
            "Training loss: 3 epoch (64128 / 60000 train. data). loss: 0.06590775400400162\n",
            "Test loss (avg): 0.0014314044952392579, Acciracy: 0.9632\n",
            "Training loss: 4 epoch (128 / 60000 train. data). loss: 0.11873501539230347\n",
            "Training loss: 4 epoch (12928 / 60000 train. data). loss: 0.050801243633031845\n",
            "Training loss: 4 epoch (25728 / 60000 train. data). loss: 0.09756823629140854\n",
            "Training loss: 4 epoch (38528 / 60000 train. data). loss: 0.2131529450416565\n",
            "Training loss: 4 epoch (51328 / 60000 train. data). loss: 0.07475445419549942\n",
            "Training loss: 4 epoch (64128 / 60000 train. data). loss: 0.07277555763721466\n",
            "Test loss (avg): 0.0009735671043395996, Acciracy: 0.9732\n",
            "Training loss: 5 epoch (128 / 60000 train. data). loss: 0.03393855690956116\n",
            "Training loss: 5 epoch (12928 / 60000 train. data). loss: 0.05705723911523819\n",
            "Training loss: 5 epoch (25728 / 60000 train. data). loss: 0.07667607814073563\n",
            "Training loss: 5 epoch (38528 / 60000 train. data). loss: 0.07585369050502777\n",
            "Training loss: 5 epoch (51328 / 60000 train. data). loss: 0.08664434403181076\n",
            "Training loss: 5 epoch (64128 / 60000 train. data). loss: 0.0631726086139679\n",
            "Test loss (avg): 0.000608263111114502, Acciracy: 0.9754\n",
            "Training loss: 6 epoch (128 / 60000 train. data). loss: 0.03582282364368439\n",
            "Training loss: 6 epoch (12928 / 60000 train. data). loss: 0.10701699554920197\n",
            "Training loss: 6 epoch (25728 / 60000 train. data). loss: 0.10956807434558868\n",
            "Training loss: 6 epoch (38528 / 60000 train. data). loss: 0.015927033498883247\n",
            "Training loss: 6 epoch (51328 / 60000 train. data). loss: 0.07939163595438004\n",
            "Training loss: 6 epoch (64128 / 60000 train. data). loss: 0.038767099380493164\n",
            "Test loss (avg): 0.0008255838394165039, Acciracy: 0.9743\n",
            "Training loss: 7 epoch (128 / 60000 train. data). loss: 0.09205903857946396\n",
            "Training loss: 7 epoch (12928 / 60000 train. data). loss: 0.02837429568171501\n",
            "Training loss: 7 epoch (25728 / 60000 train. data). loss: 0.012917730025947094\n",
            "Training loss: 7 epoch (38528 / 60000 train. data). loss: 0.018910463899374008\n",
            "Training loss: 7 epoch (51328 / 60000 train. data). loss: 0.016804810613393784\n",
            "Training loss: 7 epoch (64128 / 60000 train. data). loss: 0.03367966040968895\n",
            "Test loss (avg): 0.0008395328521728515, Acciracy: 0.9783\n",
            "Training loss: 8 epoch (128 / 60000 train. data). loss: 0.03688249737024307\n",
            "Training loss: 8 epoch (12928 / 60000 train. data). loss: 0.01729041151702404\n",
            "Training loss: 8 epoch (25728 / 60000 train. data). loss: 0.07395941019058228\n",
            "Training loss: 8 epoch (38528 / 60000 train. data). loss: 0.09325961023569107\n",
            "Training loss: 8 epoch (51328 / 60000 train. data). loss: 0.025958631187677383\n",
            "Training loss: 8 epoch (64128 / 60000 train. data). loss: 0.0938962921500206\n",
            "Test loss (avg): 0.0003789731502532959, Acciracy: 0.9767\n",
            "Training loss: 9 epoch (128 / 60000 train. data). loss: 0.07775568217039108\n",
            "Training loss: 9 epoch (12928 / 60000 train. data). loss: 0.022536370903253555\n",
            "Training loss: 9 epoch (25728 / 60000 train. data). loss: 0.08576991409063339\n",
            "Training loss: 9 epoch (38528 / 60000 train. data). loss: 0.010273256339132786\n",
            "Training loss: 9 epoch (51328 / 60000 train. data). loss: 0.00819698441773653\n",
            "Training loss: 9 epoch (64128 / 60000 train. data). loss: 0.010553182102739811\n",
            "Test loss (avg): 0.0013247655868530274, Acciracy: 0.9726\n",
            "Training loss: 10 epoch (128 / 60000 train. data). loss: 0.07710011303424835\n",
            "Training loss: 10 epoch (12928 / 60000 train. data). loss: 0.05548062175512314\n",
            "Training loss: 10 epoch (25728 / 60000 train. data). loss: 0.015406987629830837\n",
            "Training loss: 10 epoch (38528 / 60000 train. data). loss: 0.01825384609401226\n",
            "Training loss: 10 epoch (51328 / 60000 train. data). loss: 0.046089157462120056\n",
            "Training loss: 10 epoch (64128 / 60000 train. data). loss: 0.06349053978919983\n",
            "Test loss (avg): 0.0012133535385131836, Acciracy: 0.975\n",
            "Training loss: 11 epoch (128 / 60000 train. data). loss: 0.01357990875840187\n",
            "Training loss: 11 epoch (12928 / 60000 train. data). loss: 0.01931098662316799\n",
            "Training loss: 11 epoch (25728 / 60000 train. data). loss: 0.018706059083342552\n",
            "Training loss: 11 epoch (38528 / 60000 train. data). loss: 0.009828804060816765\n",
            "Training loss: 11 epoch (51328 / 60000 train. data). loss: 0.023472115397453308\n",
            "Training loss: 11 epoch (64128 / 60000 train. data). loss: 0.0638643428683281\n",
            "Test loss (avg): 0.0005196223258972168, Acciracy: 0.9775\n",
            "Training loss: 12 epoch (128 / 60000 train. data). loss: 0.08549799025058746\n",
            "Training loss: 12 epoch (12928 / 60000 train. data). loss: 0.007745860144495964\n",
            "Training loss: 12 epoch (25728 / 60000 train. data). loss: 0.008944681845605373\n",
            "Training loss: 12 epoch (38528 / 60000 train. data). loss: 0.02896246127784252\n",
            "Training loss: 12 epoch (51328 / 60000 train. data). loss: 0.011897060088813305\n",
            "Training loss: 12 epoch (64128 / 60000 train. data). loss: 0.05000325292348862\n",
            "Test loss (avg): 0.0004701699733734131, Acciracy: 0.9787\n",
            "Training loss: 13 epoch (128 / 60000 train. data). loss: 0.03679995611310005\n",
            "Training loss: 13 epoch (12928 / 60000 train. data). loss: 0.0020324615761637688\n",
            "Training loss: 13 epoch (25728 / 60000 train. data). loss: 0.01692033000290394\n",
            "Training loss: 13 epoch (38528 / 60000 train. data). loss: 0.009869007393717766\n",
            "Training loss: 13 epoch (51328 / 60000 train. data). loss: 0.013202940113842487\n",
            "Training loss: 13 epoch (64128 / 60000 train. data). loss: 0.02877958118915558\n",
            "Test loss (avg): 0.00032744154930114747, Acciracy: 0.9814\n",
            "Training loss: 14 epoch (128 / 60000 train. data). loss: 0.006928279995918274\n",
            "Training loss: 14 epoch (12928 / 60000 train. data). loss: 0.004786690231412649\n",
            "Training loss: 14 epoch (25728 / 60000 train. data). loss: 0.002365593798458576\n",
            "Training loss: 14 epoch (38528 / 60000 train. data). loss: 0.011594278737902641\n",
            "Training loss: 14 epoch (51328 / 60000 train. data). loss: 0.008898492902517319\n",
            "Training loss: 14 epoch (64128 / 60000 train. data). loss: 0.03547530248761177\n",
            "Test loss (avg): 0.0002689955711364746, Acciracy: 0.9798\n",
            "Training loss: 15 epoch (128 / 60000 train. data). loss: 0.0066059366799890995\n",
            "Training loss: 15 epoch (12928 / 60000 train. data). loss: 0.01139072421938181\n",
            "Training loss: 15 epoch (25728 / 60000 train. data). loss: 0.0037445491179823875\n",
            "Training loss: 15 epoch (38528 / 60000 train. data). loss: 0.022012922912836075\n",
            "Training loss: 15 epoch (51328 / 60000 train. data). loss: 0.016741083934903145\n",
            "Training loss: 15 epoch (64128 / 60000 train. data). loss: 0.05893251299858093\n",
            "Test loss (avg): 0.0002954963445663452, Acciracy: 0.9804\n",
            "Training loss: 16 epoch (128 / 60000 train. data). loss: 0.003893043380230665\n",
            "Training loss: 16 epoch (12928 / 60000 train. data). loss: 0.015047973021864891\n",
            "Training loss: 16 epoch (25728 / 60000 train. data). loss: 0.012104970403015614\n",
            "Training loss: 16 epoch (38528 / 60000 train. data). loss: 0.035383448004722595\n",
            "Training loss: 16 epoch (51328 / 60000 train. data). loss: 0.006118878722190857\n",
            "Training loss: 16 epoch (64128 / 60000 train. data). loss: 0.0164316538721323\n",
            "Test loss (avg): 0.00045188727378845213, Acciracy: 0.9815\n",
            "Training loss: 17 epoch (128 / 60000 train. data). loss: 0.026888594031333923\n",
            "Training loss: 17 epoch (12928 / 60000 train. data). loss: 0.00829059537500143\n",
            "Training loss: 17 epoch (25728 / 60000 train. data). loss: 0.002250511897727847\n",
            "Training loss: 17 epoch (38528 / 60000 train. data). loss: 0.008409908041357994\n",
            "Training loss: 17 epoch (51328 / 60000 train. data). loss: 0.026643920689821243\n",
            "Training loss: 17 epoch (64128 / 60000 train. data). loss: 0.01841968670487404\n",
            "Test loss (avg): 0.0004994523525238037, Acciracy: 0.9791\n",
            "Training loss: 18 epoch (128 / 60000 train. data). loss: 0.00902609620243311\n",
            "Training loss: 18 epoch (12928 / 60000 train. data). loss: 0.008625789545476437\n",
            "Training loss: 18 epoch (25728 / 60000 train. data). loss: 0.012997597455978394\n",
            "Training loss: 18 epoch (38528 / 60000 train. data). loss: 0.007435185369104147\n",
            "Training loss: 18 epoch (51328 / 60000 train. data). loss: 0.012473697774112225\n",
            "Training loss: 18 epoch (64128 / 60000 train. data). loss: 0.015497364103794098\n",
            "Test loss (avg): 0.00046330690383911133, Acciracy: 0.9807\n",
            "Training loss: 19 epoch (128 / 60000 train. data). loss: 0.01930021122097969\n",
            "Training loss: 19 epoch (12928 / 60000 train. data). loss: 0.01880441978573799\n",
            "Training loss: 19 epoch (25728 / 60000 train. data). loss: 0.010414821095764637\n",
            "Training loss: 19 epoch (38528 / 60000 train. data). loss: 0.002199815586209297\n",
            "Training loss: 19 epoch (51328 / 60000 train. data). loss: 0.0109028872102499\n",
            "Training loss: 19 epoch (64128 / 60000 train. data). loss: 0.010113039053976536\n",
            "Test loss (avg): 0.00020689761638641358, Acciracy: 0.9804\n",
            "Training loss: 20 epoch (128 / 60000 train. data). loss: 0.008355256170034409\n",
            "Training loss: 20 epoch (12928 / 60000 train. data). loss: 0.0014608834171667695\n",
            "Training loss: 20 epoch (25728 / 60000 train. data). loss: 0.05579323321580887\n",
            "Training loss: 20 epoch (38528 / 60000 train. data). loss: 0.010308903641998768\n",
            "Training loss: 20 epoch (51328 / 60000 train. data). loss: 0.003658909583464265\n",
            "Training loss: 20 epoch (64128 / 60000 train. data). loss: 0.014248121529817581\n",
            "Test loss (avg): 0.0005637307643890381, Acciracy: 0.9743\n"
          ],
          "name": "stdout"
        }
      ]
    },
    {
      "cell_type": "markdown",
      "metadata": {
        "id": "LuuQ-OR0AmKI",
        "colab_type": "text"
      },
      "source": [
        "# model save"
      ]
    },
    {
      "cell_type": "code",
      "metadata": {
        "id": "zOXtJP8MAl0k",
        "colab_type": "code",
        "colab": {}
      },
      "source": [
        "PATH = './nmist.pth'\n",
        "torch.save(net.state_dict(),PATH )"
      ],
      "execution_count": 24,
      "outputs": []
    },
    {
      "cell_type": "markdown",
      "metadata": {
        "id": "fq7tkBR-B1oV",
        "colab_type": "text"
      },
      "source": [
        "# model load"
      ]
    },
    {
      "cell_type": "code",
      "metadata": {
        "id": "xFf1rc8qB37-",
        "colab_type": "code",
        "colab": {
          "base_uri": "https://localhost:8080/",
          "height": 34
        },
        "outputId": "68172bdd-356c-4de4-8714-ae1631241893"
      },
      "source": [
        "model = EasyNet()\n",
        "model.load_state_dict(torch.load('./nmist.pth'))"
      ],
      "execution_count": 26,
      "outputs": [
        {
          "output_type": "execute_result",
          "data": {
            "text/plain": [
              "<All keys matched successfully>"
            ]
          },
          "metadata": {
            "tags": []
          },
          "execution_count": 26
        }
      ]
    },
    {
      "cell_type": "markdown",
      "metadata": {
        "id": "bJDTFyCMCXcl",
        "colab_type": "text"
      },
      "source": [
        "# 推論関数の作成"
      ]
    },
    {
      "cell_type": "code",
      "metadata": {
        "id": "JM-NnyGQCXAn",
        "colab_type": "code",
        "colab": {}
      },
      "source": [
        "model.eval()\n",
        "def predict(inp):\n",
        "    # transform = transforms.Compose([transforms.ToTensor(), transforms.Normalize((0.5,), (0.5,))])\n",
        "    inp = transform(inp).transpose(0,1)\n",
        "    # print(inp.shape)\n",
        "    inp = inp.reshape(-1, 28*28).float()\n",
        "    # print(inp.shape)\n",
        "    with torch.no_grad():\n",
        "        # predict = model(inp).argmax(dim=1, keepdim=True)\n",
        "        predict = model(inp)\n",
        "        prediction = predict.numpy().squeeze().astype('float')\n",
        "    return {str(i): np.exp(prediction[i]) for i in range(10)}"
      ],
      "execution_count": 129,
      "outputs": []
    },
    {
      "cell_type": "markdown",
      "metadata": {
        "id": "q0ZX9pu-Fbt6",
        "colab_type": "text"
      },
      "source": [
        "# gradio を使ってGUIの作成"
      ]
    },
    {
      "cell_type": "code",
      "metadata": {
        "id": "92QcXqDsFYR5",
        "colab_type": "code",
        "colab": {
          "base_uri": "https://localhost:8080/",
          "height": 643
        },
        "outputId": "79ce2da8-1e1c-41c0-d037-d4a07186097c"
      },
      "source": [
        "sketchpad = gr.inputs.Sketchpad()\n",
        "label = gr.outputs.Label(num_top_classes=3)\n",
        "interface = gr.Interface(predict,\n",
        "                         sketchpad,\n",
        "                         label,\n",
        "                         capture_session=True)\n",
        "interface.launch()"
      ],
      "execution_count": 133,
      "outputs": [
        {
          "output_type": "stream",
          "text": [
            "Colab notebook detected. To show errors in colab notebook, set debug=True in launch()\n",
            "Running on External URL: https://56706.gradio.app\n",
            "Interface loading below...\n"
          ],
          "name": "stdout"
        },
        {
          "output_type": "display_data",
          "data": {
            "text/html": [
              "\n",
              "        <iframe\n",
              "            width=\"1000\"\n",
              "            height=\"500\"\n",
              "            src=\"https://56706.gradio.app\"\n",
              "            frameborder=\"0\"\n",
              "            allowfullscreen\n",
              "        ></iframe>\n",
              "        "
            ],
            "text/plain": [
              "<IPython.lib.display.IFrame at 0x7fd3ff242ba8>"
            ]
          },
          "metadata": {
            "tags": []
          }
        },
        {
          "output_type": "execute_result",
          "data": {
            "text/plain": [
              "(<gradio.networking.serve_files_in_background.<locals>.HTTPServer at 0x7fd410a5b5f8>,\n",
              " 'http://127.0.0.1:7872/',\n",
              " 'https://56706.gradio.app')"
            ]
          },
          "metadata": {
            "tags": []
          },
          "execution_count": 133
        }
      ]
    },
    {
      "cell_type": "code",
      "metadata": {
        "id": "GIwW1GoOt4j1",
        "colab_type": "code",
        "colab": {}
      },
      "source": [
        ""
      ],
      "execution_count": null,
      "outputs": []
    },
    {
      "cell_type": "code",
      "metadata": {
        "id": "MGI8ktOHt4fw",
        "colab_type": "code",
        "colab": {}
      },
      "source": [
        ""
      ],
      "execution_count": null,
      "outputs": []
    },
    {
      "cell_type": "code",
      "metadata": {
        "id": "PH8WXMmrt4F2",
        "colab_type": "code",
        "colab": {}
      },
      "source": [
        ""
      ],
      "execution_count": null,
      "outputs": []
    }
  ]
}
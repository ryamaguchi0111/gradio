{
  "nbformat": 4,
  "nbformat_minor": 0,
  "metadata": {
    "colab": {
      "name": "gradio_getting_started.ipynb",
      "provenance": [],
      "collapsed_sections": [],
      "authorship_tag": "ABX9TyOS8IJ3RhaASXgJ1LmorC3t",
      "include_colab_link": true
    },
    "kernelspec": {
      "name": "python3",
      "display_name": "Python 3"
    }
  },
  "cells": [
    {
      "cell_type": "markdown",
      "metadata": {
        "id": "view-in-github",
        "colab_type": "text"
      },
      "source": [
        "<a href=\"https://colab.research.google.com/github/ryamaguchi0111/gradio/blob/master/gradio_getting_started.ipynb\" target=\"_parent\"><img src=\"https://colab.research.google.com/assets/colab-badge.svg\" alt=\"Open In Colab\"/></a>"
      ]
    },
    {
      "cell_type": "markdown",
      "metadata": {
        "id": "6AZezhhAizAH",
        "colab_type": "text"
      },
      "source": [
        "# Getting Started\n",
        "Gradioを実行するためには3つの手順が必要です。  \n",
        "簡単な例でそれらを実行します。\n",
        "\n",
        "参考:https://www.gradio.app/getting_started"
      ]
    },
    {
      "cell_type": "markdown",
      "metadata": {
        "id": "MGTeqbTAjGEd",
        "colab_type": "text"
      },
      "source": [
        "## 1. Install Gradio from pip"
      ]
    },
    {
      "cell_type": "code",
      "metadata": {
        "id": "aGk9jHIQipr7",
        "colab_type": "code",
        "colab": {
          "base_uri": "https://localhost:8080/",
          "height": 904
        },
        "outputId": "f47e8be7-4ff1-49ea-bdbb-ebdc91980af9"
      },
      "source": [
        "!pip install gradio"
      ],
      "execution_count": null,
      "outputs": [
        {
          "output_type": "stream",
          "text": [
            "Collecting gradio\n",
            "\u001b[?25l  Downloading https://files.pythonhosted.org/packages/d0/b4/cf2fa2706ae1ed73237331bed5aab0b94c4ce282d7f26539962d0a2259eb/gradio-1.0.7-py3-none-any.whl (1.4MB)\n",
            "\r\u001b[K     |▎                               | 10kB 14.8MB/s eta 0:00:01\r\u001b[K     |▌                               | 20kB 1.7MB/s eta 0:00:01\r\u001b[K     |▊                               | 30kB 2.2MB/s eta 0:00:01\r\u001b[K     |█                               | 40kB 2.4MB/s eta 0:00:01\r\u001b[K     |█▏                              | 51kB 2.0MB/s eta 0:00:01\r\u001b[K     |█▍                              | 61kB 2.3MB/s eta 0:00:01\r\u001b[K     |█▋                              | 71kB 2.5MB/s eta 0:00:01\r\u001b[K     |█▉                              | 81kB 2.7MB/s eta 0:00:01\r\u001b[K     |██                              | 92kB 2.9MB/s eta 0:00:01\r\u001b[K     |██▎                             | 102kB 2.7MB/s eta 0:00:01\r\u001b[K     |██▋                             | 112kB 2.7MB/s eta 0:00:01\r\u001b[K     |██▉                             | 122kB 2.7MB/s eta 0:00:01\r\u001b[K     |███                             | 133kB 2.7MB/s eta 0:00:01\r\u001b[K     |███▎                            | 143kB 2.7MB/s eta 0:00:01\r\u001b[K     |███▌                            | 153kB 2.7MB/s eta 0:00:01\r\u001b[K     |███▊                            | 163kB 2.7MB/s eta 0:00:01\r\u001b[K     |████                            | 174kB 2.7MB/s eta 0:00:01\r\u001b[K     |████▏                           | 184kB 2.7MB/s eta 0:00:01\r\u001b[K     |████▍                           | 194kB 2.7MB/s eta 0:00:01\r\u001b[K     |████▋                           | 204kB 2.7MB/s eta 0:00:01\r\u001b[K     |████▉                           | 215kB 2.7MB/s eta 0:00:01\r\u001b[K     |█████▏                          | 225kB 2.7MB/s eta 0:00:01\r\u001b[K     |█████▍                          | 235kB 2.7MB/s eta 0:00:01\r\u001b[K     |█████▋                          | 245kB 2.7MB/s eta 0:00:01\r\u001b[K     |█████▉                          | 256kB 2.7MB/s eta 0:00:01\r\u001b[K     |██████                          | 266kB 2.7MB/s eta 0:00:01\r\u001b[K     |██████▎                         | 276kB 2.7MB/s eta 0:00:01\r\u001b[K     |██████▌                         | 286kB 2.7MB/s eta 0:00:01\r\u001b[K     |██████▊                         | 296kB 2.7MB/s eta 0:00:01\r\u001b[K     |███████                         | 307kB 2.7MB/s eta 0:00:01\r\u001b[K     |███████▏                        | 317kB 2.7MB/s eta 0:00:01\r\u001b[K     |███████▍                        | 327kB 2.7MB/s eta 0:00:01\r\u001b[K     |███████▊                        | 337kB 2.7MB/s eta 0:00:01\r\u001b[K     |████████                        | 348kB 2.7MB/s eta 0:00:01\r\u001b[K     |████████▏                       | 358kB 2.7MB/s eta 0:00:01\r\u001b[K     |████████▍                       | 368kB 2.7MB/s eta 0:00:01\r\u001b[K     |████████▋                       | 378kB 2.7MB/s eta 0:00:01\r\u001b[K     |████████▉                       | 389kB 2.7MB/s eta 0:00:01\r\u001b[K     |█████████                       | 399kB 2.7MB/s eta 0:00:01\r\u001b[K     |█████████▎                      | 409kB 2.7MB/s eta 0:00:01\r\u001b[K     |█████████▌                      | 419kB 2.7MB/s eta 0:00:01\r\u001b[K     |█████████▊                      | 430kB 2.7MB/s eta 0:00:01\r\u001b[K     |██████████                      | 440kB 2.7MB/s eta 0:00:01\r\u001b[K     |██████████▎                     | 450kB 2.7MB/s eta 0:00:01\r\u001b[K     |██████████▌                     | 460kB 2.7MB/s eta 0:00:01\r\u001b[K     |██████████▊                     | 471kB 2.7MB/s eta 0:00:01\r\u001b[K     |███████████                     | 481kB 2.7MB/s eta 0:00:01\r\u001b[K     |███████████▏                    | 491kB 2.7MB/s eta 0:00:01\r\u001b[K     |███████████▍                    | 501kB 2.7MB/s eta 0:00:01\r\u001b[K     |███████████▋                    | 512kB 2.7MB/s eta 0:00:01\r\u001b[K     |███████████▉                    | 522kB 2.7MB/s eta 0:00:01\r\u001b[K     |████████████                    | 532kB 2.7MB/s eta 0:00:01\r\u001b[K     |████████████▎                   | 542kB 2.7MB/s eta 0:00:01\r\u001b[K     |████████████▌                   | 552kB 2.7MB/s eta 0:00:01\r\u001b[K     |████████████▉                   | 563kB 2.7MB/s eta 0:00:01\r\u001b[K     |█████████████                   | 573kB 2.7MB/s eta 0:00:01\r\u001b[K     |█████████████▎                  | 583kB 2.7MB/s eta 0:00:01\r\u001b[K     |█████████████▌                  | 593kB 2.7MB/s eta 0:00:01\r\u001b[K     |█████████████▊                  | 604kB 2.7MB/s eta 0:00:01\r\u001b[K     |██████████████                  | 614kB 2.7MB/s eta 0:00:01\r\u001b[K     |██████████████▏                 | 624kB 2.7MB/s eta 0:00:01\r\u001b[K     |██████████████▍                 | 634kB 2.7MB/s eta 0:00:01\r\u001b[K     |██████████████▋                 | 645kB 2.7MB/s eta 0:00:01\r\u001b[K     |██████████████▉                 | 655kB 2.7MB/s eta 0:00:01\r\u001b[K     |███████████████                 | 665kB 2.7MB/s eta 0:00:01\r\u001b[K     |███████████████▍                | 675kB 2.7MB/s eta 0:00:01\r\u001b[K     |███████████████▋                | 686kB 2.7MB/s eta 0:00:01\r\u001b[K     |███████████████▉                | 696kB 2.7MB/s eta 0:00:01\r\u001b[K     |████████████████                | 706kB 2.7MB/s eta 0:00:01\r\u001b[K     |████████████████▎               | 716kB 2.7MB/s eta 0:00:01\r\u001b[K     |████████████████▌               | 727kB 2.7MB/s eta 0:00:01\r\u001b[K     |████████████████▊               | 737kB 2.7MB/s eta 0:00:01\r\u001b[K     |█████████████████               | 747kB 2.7MB/s eta 0:00:01\r\u001b[K     |█████████████████▏              | 757kB 2.7MB/s eta 0:00:01\r\u001b[K     |█████████████████▍              | 768kB 2.7MB/s eta 0:00:01\r\u001b[K     |█████████████████▋              | 778kB 2.7MB/s eta 0:00:01\r\u001b[K     |██████████████████              | 788kB 2.7MB/s eta 0:00:01\r\u001b[K     |██████████████████▏             | 798kB 2.7MB/s eta 0:00:01\r\u001b[K     |██████████████████▍             | 808kB 2.7MB/s eta 0:00:01\r\u001b[K     |██████████████████▋             | 819kB 2.7MB/s eta 0:00:01\r\u001b[K     |██████████████████▉             | 829kB 2.7MB/s eta 0:00:01\r\u001b[K     |███████████████████             | 839kB 2.7MB/s eta 0:00:01\r\u001b[K     |███████████████████▎            | 849kB 2.7MB/s eta 0:00:01\r\u001b[K     |███████████████████▌            | 860kB 2.7MB/s eta 0:00:01\r\u001b[K     |███████████████████▊            | 870kB 2.7MB/s eta 0:00:01\r\u001b[K     |████████████████████            | 880kB 2.7MB/s eta 0:00:01\r\u001b[K     |████████████████████▏           | 890kB 2.7MB/s eta 0:00:01\r\u001b[K     |████████████████████▌           | 901kB 2.7MB/s eta 0:00:01\r\u001b[K     |████████████████████▊           | 911kB 2.7MB/s eta 0:00:01\r\u001b[K     |█████████████████████           | 921kB 2.7MB/s eta 0:00:01\r\u001b[K     |█████████████████████▏          | 931kB 2.7MB/s eta 0:00:01\r\u001b[K     |█████████████████████▍          | 942kB 2.7MB/s eta 0:00:01\r\u001b[K     |█████████████████████▋          | 952kB 2.7MB/s eta 0:00:01\r\u001b[K     |█████████████████████▉          | 962kB 2.7MB/s eta 0:00:01\r\u001b[K     |██████████████████████          | 972kB 2.7MB/s eta 0:00:01\r\u001b[K     |██████████████████████▎         | 983kB 2.7MB/s eta 0:00:01\r\u001b[K     |██████████████████████▌         | 993kB 2.7MB/s eta 0:00:01\r\u001b[K     |██████████████████████▊         | 1.0MB 2.7MB/s eta 0:00:01\r\u001b[K     |███████████████████████         | 1.0MB 2.7MB/s eta 0:00:01\r\u001b[K     |███████████████████████▎        | 1.0MB 2.7MB/s eta 0:00:01\r\u001b[K     |███████████████████████▌        | 1.0MB 2.7MB/s eta 0:00:01\r\u001b[K     |███████████████████████▊        | 1.0MB 2.7MB/s eta 0:00:01\r\u001b[K     |████████████████████████        | 1.1MB 2.7MB/s eta 0:00:01\r\u001b[K     |████████████████████████▏       | 1.1MB 2.7MB/s eta 0:00:01\r\u001b[K     |████████████████████████▍       | 1.1MB 2.7MB/s eta 0:00:01\r\u001b[K     |████████████████████████▋       | 1.1MB 2.7MB/s eta 0:00:01\r\u001b[K     |████████████████████████▉       | 1.1MB 2.7MB/s eta 0:00:01\r\u001b[K     |█████████████████████████       | 1.1MB 2.7MB/s eta 0:00:01\r\u001b[K     |█████████████████████████▎      | 1.1MB 2.7MB/s eta 0:00:01\r\u001b[K     |█████████████████████████▋      | 1.1MB 2.7MB/s eta 0:00:01\r\u001b[K     |█████████████████████████▉      | 1.1MB 2.7MB/s eta 0:00:01\r\u001b[K     |██████████████████████████      | 1.1MB 2.7MB/s eta 0:00:01\r\u001b[K     |██████████████████████████▎     | 1.2MB 2.7MB/s eta 0:00:01\r\u001b[K     |██████████████████████████▌     | 1.2MB 2.7MB/s eta 0:00:01\r\u001b[K     |██████████████████████████▊     | 1.2MB 2.7MB/s eta 0:00:01\r\u001b[K     |███████████████████████████     | 1.2MB 2.7MB/s eta 0:00:01\r\u001b[K     |███████████████████████████▏    | 1.2MB 2.7MB/s eta 0:00:01\r\u001b[K     |███████████████████████████▍    | 1.2MB 2.7MB/s eta 0:00:01\r\u001b[K     |███████████████████████████▋    | 1.2MB 2.7MB/s eta 0:00:01\r\u001b[K     |███████████████████████████▉    | 1.2MB 2.7MB/s eta 0:00:01\r\u001b[K     |████████████████████████████▏   | 1.2MB 2.7MB/s eta 0:00:01\r\u001b[K     |████████████████████████████▍   | 1.2MB 2.7MB/s eta 0:00:01\r\u001b[K     |████████████████████████████▋   | 1.3MB 2.7MB/s eta 0:00:01\r\u001b[K     |████████████████████████████▉   | 1.3MB 2.7MB/s eta 0:00:01\r\u001b[K     |█████████████████████████████   | 1.3MB 2.7MB/s eta 0:00:01\r\u001b[K     |█████████████████████████████▎  | 1.3MB 2.7MB/s eta 0:00:01\r\u001b[K     |█████████████████████████████▌  | 1.3MB 2.7MB/s eta 0:00:01\r\u001b[K     |█████████████████████████████▊  | 1.3MB 2.7MB/s eta 0:00:01\r\u001b[K     |██████████████████████████████  | 1.3MB 2.7MB/s eta 0:00:01\r\u001b[K     |██████████████████████████████▏ | 1.3MB 2.7MB/s eta 0:00:01\r\u001b[K     |██████████████████████████████▍ | 1.3MB 2.7MB/s eta 0:00:01\r\u001b[K     |██████████████████████████████▊ | 1.4MB 2.7MB/s eta 0:00:01\r\u001b[K     |███████████████████████████████ | 1.4MB 2.7MB/s eta 0:00:01\r\u001b[K     |███████████████████████████████▏| 1.4MB 2.7MB/s eta 0:00:01\r\u001b[K     |███████████████████████████████▍| 1.4MB 2.7MB/s eta 0:00:01\r\u001b[K     |███████████████████████████████▋| 1.4MB 2.7MB/s eta 0:00:01\r\u001b[K     |███████████████████████████████▉| 1.4MB 2.7MB/s eta 0:00:01\r\u001b[K     |████████████████████████████████| 1.4MB 2.7MB/s \n",
            "\u001b[?25hRequirement already satisfied: scikit-image in /usr/local/lib/python3.6/dist-packages (from gradio) (0.16.2)\n",
            "Collecting paramiko\n",
            "\u001b[?25l  Downloading https://files.pythonhosted.org/packages/06/1e/1e08baaaf6c3d3df1459fd85f0e7d2d6aa916f33958f151ee1ecc9800971/paramiko-2.7.1-py2.py3-none-any.whl (206kB)\n",
            "\u001b[K     |████████████████████████████████| 215kB 18.2MB/s \n",
            "\u001b[?25hRequirement already satisfied: IPython in /usr/local/lib/python3.6/dist-packages (from gradio) (5.5.0)\n",
            "Collecting analytics-python\n",
            "  Downloading https://files.pythonhosted.org/packages/d3/37/c49d052f88655cd96445c36979fb63f69ef859e167eaff5706ca7c8a8ee3/analytics_python-1.2.9-py2.py3-none-any.whl\n",
            "Requirement already satisfied: numpy in /usr/local/lib/python3.6/dist-packages (from gradio) (1.18.5)\n",
            "Requirement already satisfied: requests in /usr/local/lib/python3.6/dist-packages (from gradio) (2.23.0)\n",
            "Requirement already satisfied: scipy in /usr/local/lib/python3.6/dist-packages (from gradio) (1.4.1)\n",
            "Requirement already satisfied: matplotlib!=3.0.0,>=2.0.0 in /usr/local/lib/python3.6/dist-packages (from scikit-image->gradio) (3.2.2)\n",
            "Requirement already satisfied: networkx>=2.0 in /usr/local/lib/python3.6/dist-packages (from scikit-image->gradio) (2.4)\n",
            "Requirement already satisfied: PyWavelets>=0.4.0 in /usr/local/lib/python3.6/dist-packages (from scikit-image->gradio) (1.1.1)\n",
            "Requirement already satisfied: pillow>=4.3.0 in /usr/local/lib/python3.6/dist-packages (from scikit-image->gradio) (7.0.0)\n",
            "Requirement already satisfied: imageio>=2.3.0 in /usr/local/lib/python3.6/dist-packages (from scikit-image->gradio) (2.4.1)\n",
            "Collecting bcrypt>=3.1.3\n",
            "\u001b[?25l  Downloading https://files.pythonhosted.org/packages/8b/1d/82826443777dd4a624e38a08957b975e75df859b381ae302cfd7a30783ed/bcrypt-3.1.7-cp34-abi3-manylinux1_x86_64.whl (56kB)\n",
            "\u001b[K     |████████████████████████████████| 61kB 6.3MB/s \n",
            "\u001b[?25hCollecting pynacl>=1.0.1\n",
            "\u001b[?25l  Downloading https://files.pythonhosted.org/packages/9d/57/2f5e6226a674b2bcb6db531e8b383079b678df5b10cdaa610d6cf20d77ba/PyNaCl-1.4.0-cp35-abi3-manylinux1_x86_64.whl (961kB)\n",
            "\u001b[K     |████████████████████████████████| 962kB 16.3MB/s \n",
            "\u001b[?25hCollecting cryptography>=2.5\n",
            "\u001b[?25l  Downloading https://files.pythonhosted.org/packages/ba/91/84a29d6a27fd6dfc21f475704c4d2053d58ed7a4033c2b0ce1b4ca4d03d9/cryptography-3.0-cp35-abi3-manylinux2010_x86_64.whl (2.7MB)\n",
            "\u001b[K     |████████████████████████████████| 2.7MB 26.6MB/s \n",
            "\u001b[?25hRequirement already satisfied: prompt-toolkit<2.0.0,>=1.0.4 in /usr/local/lib/python3.6/dist-packages (from IPython->gradio) (1.0.18)\n",
            "Requirement already satisfied: simplegeneric>0.8 in /usr/local/lib/python3.6/dist-packages (from IPython->gradio) (0.8.1)\n",
            "Requirement already satisfied: pickleshare in /usr/local/lib/python3.6/dist-packages (from IPython->gradio) (0.7.5)\n",
            "Requirement already satisfied: decorator in /usr/local/lib/python3.6/dist-packages (from IPython->gradio) (4.4.2)\n",
            "Requirement already satisfied: traitlets>=4.2 in /usr/local/lib/python3.6/dist-packages (from IPython->gradio) (4.3.3)\n",
            "Requirement already satisfied: setuptools>=18.5 in /usr/local/lib/python3.6/dist-packages (from IPython->gradio) (49.2.0)\n",
            "Requirement already satisfied: pexpect; sys_platform != \"win32\" in /usr/local/lib/python3.6/dist-packages (from IPython->gradio) (4.8.0)\n",
            "Requirement already satisfied: pygments in /usr/local/lib/python3.6/dist-packages (from IPython->gradio) (2.1.3)\n",
            "Requirement already satisfied: python-dateutil>2.1 in /usr/local/lib/python3.6/dist-packages (from analytics-python->gradio) (2.8.1)\n",
            "Requirement already satisfied: six>=1.5 in /usr/local/lib/python3.6/dist-packages (from analytics-python->gradio) (1.15.0)\n",
            "Requirement already satisfied: idna<3,>=2.5 in /usr/local/lib/python3.6/dist-packages (from requests->gradio) (2.10)\n",
            "Requirement already satisfied: chardet<4,>=3.0.2 in /usr/local/lib/python3.6/dist-packages (from requests->gradio) (3.0.4)\n",
            "Requirement already satisfied: urllib3!=1.25.0,!=1.25.1,<1.26,>=1.21.1 in /usr/local/lib/python3.6/dist-packages (from requests->gradio) (1.24.3)\n",
            "Requirement already satisfied: certifi>=2017.4.17 in /usr/local/lib/python3.6/dist-packages (from requests->gradio) (2020.6.20)\n",
            "Requirement already satisfied: kiwisolver>=1.0.1 in /usr/local/lib/python3.6/dist-packages (from matplotlib!=3.0.0,>=2.0.0->scikit-image->gradio) (1.2.0)\n",
            "Requirement already satisfied: cycler>=0.10 in /usr/local/lib/python3.6/dist-packages (from matplotlib!=3.0.0,>=2.0.0->scikit-image->gradio) (0.10.0)\n",
            "Requirement already satisfied: pyparsing!=2.0.4,!=2.1.2,!=2.1.6,>=2.0.1 in /usr/local/lib/python3.6/dist-packages (from matplotlib!=3.0.0,>=2.0.0->scikit-image->gradio) (2.4.7)\n",
            "Requirement already satisfied: cffi>=1.1 in /usr/local/lib/python3.6/dist-packages (from bcrypt>=3.1.3->paramiko->gradio) (1.14.1)\n",
            "Requirement already satisfied: wcwidth in /usr/local/lib/python3.6/dist-packages (from prompt-toolkit<2.0.0,>=1.0.4->IPython->gradio) (0.2.5)\n",
            "Requirement already satisfied: ipython-genutils in /usr/local/lib/python3.6/dist-packages (from traitlets>=4.2->IPython->gradio) (0.2.0)\n",
            "Requirement already satisfied: ptyprocess>=0.5 in /usr/local/lib/python3.6/dist-packages (from pexpect; sys_platform != \"win32\"->IPython->gradio) (0.6.0)\n",
            "Requirement already satisfied: pycparser in /usr/local/lib/python3.6/dist-packages (from cffi>=1.1->bcrypt>=3.1.3->paramiko->gradio) (2.20)\n",
            "Installing collected packages: bcrypt, pynacl, cryptography, paramiko, analytics-python, gradio\n",
            "Successfully installed analytics-python-1.2.9 bcrypt-3.1.7 cryptography-3.0 gradio-1.0.7 paramiko-2.7.1 pynacl-1.4.0\n"
          ],
          "name": "stdout"
        }
      ]
    },
    {
      "cell_type": "markdown",
      "metadata": {
        "id": "8asUQBu7jNG2",
        "colab_type": "text"
      },
      "source": [
        "## 2. 以下のコードを実行します。"
      ]
    },
    {
      "cell_type": "code",
      "metadata": {
        "id": "olEQWD86jMIK",
        "colab_type": "code",
        "colab": {
          "base_uri": "https://localhost:8080/",
          "height": 643
        },
        "outputId": "5273ff0b-556f-4d7d-8aeb-8df4d61ab42e"
      },
      "source": [
        "import gradio as gr\n",
        "\n",
        "def greet(name):\n",
        "    return f'Hello {name} !'\n",
        "\n",
        "gr.Interface(fn=greet, inputs='text', outputs='text').launch()"
      ],
      "execution_count": null,
      "outputs": [
        {
          "output_type": "stream",
          "text": [
            "Colab notebook detected. To show errors in colab notebook, set debug=True in launch()\n",
            "Running on External URL: https://46533.gradio.app\n",
            "Interface loading below...\n"
          ],
          "name": "stdout"
        },
        {
          "output_type": "display_data",
          "data": {
            "text/html": [
              "\n",
              "        <iframe\n",
              "            width=\"1000\"\n",
              "            height=\"500\"\n",
              "            src=\"https://46533.gradio.app\"\n",
              "            frameborder=\"0\"\n",
              "            allowfullscreen\n",
              "        ></iframe>\n",
              "        "
            ],
            "text/plain": [
              "<IPython.lib.display.IFrame at 0x7f80203659b0>"
            ]
          },
          "metadata": {
            "tags": []
          }
        },
        {
          "output_type": "execute_result",
          "data": {
            "text/plain": [
              "(<gradio.networking.serve_files_in_background.<locals>.HTTPServer at 0x7f801eeee278>,\n",
              " 'http://127.0.0.1:7860/',\n",
              " 'https://46533.gradio.app')"
            ]
          },
          "metadata": {
            "tags": []
          },
          "execution_count": 3
        }
      ]
    },
    {
      "cell_type": "markdown",
      "metadata": {
        "id": "kyEDHR9vj4Yq",
        "colab_type": "text"
      },
      "source": [
        "## 3.上のインターフェースは、Pythonノートブック内に自動的に表示されます。スクリプトから実行している場合は、http：// localhost： 46533のブラウザに表示されます。"
      ]
    },
    {
      "cell_type": "code",
      "metadata": {
        "id": "Xwy9BJPNjrVi",
        "colab_type": "code",
        "colab": {}
      },
      "source": [
        ""
      ],
      "execution_count": null,
      "outputs": []
    },
    {
      "cell_type": "markdown",
      "metadata": {
        "id": "avnwez8bkGX2",
        "colab_type": "text"
      },
      "source": [
        "# The Interface\n",
        "Gradioは、使いやすいインターフェイスです。  \n",
        "ほとんどすべてのPython関数をラップできます。  \n",
        "その関数は、単純な計算から事前学習済みモデルまで何でもできます。  \n",
        "\n",
        "core interface class は3つのパラメータで初期化されます。\n",
        "- fn : the function to wrap\n",
        "- inputs : the input component type(s)\n",
        "- outputs : the output componet type(s)\n",
        "\n",
        "これらの3つの引数を使用すると、インターフェースをすばやく作成し、それらをlaunch（）できます。　　\n",
        "UIコンポーネントの外観や動作を変更したい場合\n"
      ]
    },
    {
      "cell_type": "markdown",
      "metadata": {
        "id": "4-F8ilovkGPC",
        "colab_type": "text"
      },
      "source": [
        "# Customizable Compinents\n",
        "入力テキストフィールドをカスタマイズしたい場合　　\n",
        "\n",
        "たとえば、フィールドを大きくしてテキストヒントを設定したいとしますか？文字列のショートカットを使用する代わりに、Textboxの実際の入力クラスを使用する場合、より多くのカスタマイズ性にアクセスできます。  \n",
        "サポートされているすべてのコンポーネントのリストとそれらをカスタマイズする方法については、[ドキュメント](https://www.gradio.app/docs)をご覧ください。\n"
      ]
    },
    {
      "cell_type": "code",
      "metadata": {
        "id": "xu-m6vulmPtF",
        "colab_type": "code",
        "colab": {
          "base_uri": "https://localhost:8080/",
          "height": 643
        },
        "outputId": "496dc80f-dc54-482c-af5c-cd1a9a2e841a"
      },
      "source": [
        "import gradio as gr\n",
        "\n",
        "def greet(name):\n",
        "  return \"Hello \" + name + \"!\"\n",
        "\n",
        "gr.Interface(\n",
        "  greet, \n",
        "  gr.inputs.Textbox(lines=2, placeholder=\"Name Here...\"),   # placeholoderで指定した文字がテキストヒントとして出てくる\n",
        "  \"text\").launch()"
      ],
      "execution_count": null,
      "outputs": [
        {
          "output_type": "stream",
          "text": [
            "Colab notebook detected. To show errors in colab notebook, set debug=True in launch()\n",
            "Running on External URL: https://49779.gradio.app\n",
            "Interface loading below...\n"
          ],
          "name": "stdout"
        },
        {
          "output_type": "display_data",
          "data": {
            "text/html": [
              "\n",
              "        <iframe\n",
              "            width=\"1000\"\n",
              "            height=\"500\"\n",
              "            src=\"https://49779.gradio.app\"\n",
              "            frameborder=\"0\"\n",
              "            allowfullscreen\n",
              "        ></iframe>\n",
              "        "
            ],
            "text/plain": [
              "<IPython.lib.display.IFrame at 0x7f801e111780>"
            ]
          },
          "metadata": {
            "tags": []
          }
        },
        {
          "output_type": "execute_result",
          "data": {
            "text/plain": [
              "(<gradio.networking.serve_files_in_background.<locals>.HTTPServer at 0x7f802ee2f5f8>,\n",
              " 'http://127.0.0.1:7861/',\n",
              " 'https://49779.gradio.app')"
            ]
          },
          "metadata": {
            "tags": []
          },
          "execution_count": 4
        }
      ]
    },
    {
      "cell_type": "markdown",
      "metadata": {
        "id": "xlKU2_nCmiXt",
        "colab_type": "text"
      },
      "source": [
        "# Multiple Inputs and Outputs\n",
        "複数の入力と出力を備えた、はるかに複雑な関数があるとしましょう。  \n",
        "以下の例では、文字列、ブール値、数値を受け取り、文字列と数値を返す関数があります。  \n",
        "入力コンポーネントと出力コンポーネントのリストを渡す方法を見てみましょう。"
      ]
    },
    {
      "cell_type": "code",
      "metadata": {
        "id": "Bs5OrgKBmwGF",
        "colab_type": "code",
        "colab": {
          "base_uri": "https://localhost:8080/",
          "height": 643
        },
        "outputId": "fcd902c2-9b72-4be0-c105-f36c4b55eb00"
      },
      "source": [
        "import gradio as gr\n",
        "\n",
        "def greet(name, is_morning, temperature):\n",
        "  salutation = \"Good morning\" if is_morning else \"Good evening\"\n",
        "  greeting = \"%s %s. It is %s degrees today\" % (salutation, name, temperature)\n",
        "  celsius = (temperature - 32) * 5 / 9\n",
        "  return greeting, round(celsius, 2)\n",
        "\n",
        "gr.Interface(\n",
        "  greet,  # fn \n",
        "  [\"text\", \"checkbox\", gr.inputs.Slider(0, 100)], # inputs\n",
        "  [\"text\", \"number\"]).launch() # outputs"
      ],
      "execution_count": null,
      "outputs": [
        {
          "output_type": "stream",
          "text": [
            "Colab notebook detected. To show errors in colab notebook, set debug=True in launch()\n",
            "Running on External URL: https://47167.gradio.app\n",
            "Interface loading below...\n"
          ],
          "name": "stdout"
        },
        {
          "output_type": "display_data",
          "data": {
            "text/html": [
              "\n",
              "        <iframe\n",
              "            width=\"1000\"\n",
              "            height=\"500\"\n",
              "            src=\"https://47167.gradio.app\"\n",
              "            frameborder=\"0\"\n",
              "            allowfullscreen\n",
              "        ></iframe>\n",
              "        "
            ],
            "text/plain": [
              "<IPython.lib.display.IFrame at 0x7f801c8c77b8>"
            ]
          },
          "metadata": {
            "tags": []
          }
        },
        {
          "output_type": "execute_result",
          "data": {
            "text/plain": [
              "(<gradio.networking.serve_files_in_background.<locals>.HTTPServer at 0x7f801c8c7240>,\n",
              " 'http://127.0.0.1:7864/',\n",
              " 'https://47167.gradio.app')"
            ]
          },
          "metadata": {
            "tags": []
          },
          "execution_count": 7
        }
      ]
    },
    {
      "cell_type": "markdown",
      "metadata": {
        "id": "5_9MRt8WoRV0",
        "colab_type": "text"
      },
      "source": [
        "コンポーネントをリストにラップするだけです。  \n",
        "さらに、同じ入力型と戻り値型を持つ複数の関数を比較したい場合は、関数のリストを渡してすばやく比較することもできます"
      ]
    },
    {
      "cell_type": "markdown",
      "metadata": {
        "id": "_tpqXBaHoXp_",
        "colab_type": "text"
      },
      "source": [
        "# Working with Images\n",
        "image to image関数を試してみます。  \n",
        "画像コンポーネントを使用する場合、  \n",
        "関数は、指定されたサイズの形状（幅、高さ、3）の配列を受け取ります。  \n",
        "最後の次元はRGB値を表します。   \n",
        "numpy配列の形式で画像も返します。"
      ]
    },
    {
      "cell_type": "code",
      "metadata": {
        "id": "pGWMCLgGmcew",
        "colab_type": "code",
        "colab": {
          "base_uri": "https://localhost:8080/",
          "height": 643
        },
        "outputId": "e1d8c86e-7ef0-46a9-d0bf-4a44f8077b1d"
      },
      "source": [
        "import gradio as gr\n",
        "import numpy as np\n",
        "\n",
        "def sepia(img):\n",
        "  sepia_filter = np.array([[.393, .769, .189],\n",
        "                           [.349, .686, .168],\n",
        "                           [.272, .534, .131]])\n",
        "  sepia_img = img.dot(sepia_filter.T)\n",
        "  sepia_img /= sepia_img.max()                          \n",
        "  return sepia_img\n",
        "\n",
        "gr.Interface(\n",
        "  sepia, gr.inputs.Image(shape=(300, 300)), \"image\").launch()"
      ],
      "execution_count": null,
      "outputs": [
        {
          "output_type": "stream",
          "text": [
            "Colab notebook detected. To show errors in colab notebook, set debug=True in launch()\n",
            "Running on External URL: https://19896.gradio.app\n",
            "Interface loading below...\n"
          ],
          "name": "stdout"
        },
        {
          "output_type": "display_data",
          "data": {
            "text/html": [
              "\n",
              "        <iframe\n",
              "            width=\"1000\"\n",
              "            height=\"500\"\n",
              "            src=\"https://19896.gradio.app\"\n",
              "            frameborder=\"0\"\n",
              "            allowfullscreen\n",
              "        ></iframe>\n",
              "        "
            ],
            "text/plain": [
              "<IPython.lib.display.IFrame at 0x7f801c8d3390>"
            ]
          },
          "metadata": {
            "tags": []
          }
        },
        {
          "output_type": "execute_result",
          "data": {
            "text/plain": [
              "(<gradio.networking.serve_files_in_background.<locals>.HTTPServer at 0x7f801c8d3080>,\n",
              " 'http://127.0.0.1:7866/',\n",
              " 'https://19896.gradio.app')"
            ]
          },
          "metadata": {
            "tags": []
          },
          "execution_count": 9
        }
      ]
    },
    {
      "cell_type": "markdown",
      "metadata": {
        "id": "5CvPRI6lpasn",
        "colab_type": "text"
      },
      "source": [
        "さらに、画像入力インターフェイスには「編集」ボタンが付属しており、トリミング、反転、回転、描画、および画像へのフィルターの適用のためのツールが開きます。この方法で画像を操作すると、モデルの隠れた欠陥が明らかになることがよくあります"
      ]
    },
    {
      "cell_type": "markdown",
      "metadata": {
        "id": "VpqUYSa7pdxC",
        "colab_type": "text"
      },
      "source": [
        "# Netx Steps\n",
        "これで、Gradioを使い始めることができます。  \n",
        "利用可能なすべてのコンポーネントのリストを確認するには、[ドキュメント](https://www.gradio.app/docs)をご覧ください。   \n",
        "Gradioを使用した機械学習モデルの例を確認するには、[ML Examples](https://www.gradio.app/ml_examples)のページをご覧ください。   \n"
      ]
    },
    {
      "cell_type": "markdown",
      "metadata": {
        "id": "0xFMgrRGqTQj",
        "colab_type": "text"
      },
      "source": [
        "# Sharing Interfaces Publivkly & Privacy\n",
        "launch()メソッドで share=True にすると、インターフェースを簡単に共有することができます。  \n",
        "```python\n",
        "gr.Interface(classify_image, image, label).launch(share=True)\n",
        "```\n",
        "\n",
        "これにより、誰にでも送信できる共有可能な共有リンクが生成されます。このリンクを送信すると、反対側のユーザーはブラウザでモデルを試すことができます。処理はデバイス上で行われるため（デバイスがオンのままである限り）、依存関係を心配する必要はありません。 colabノートブックで作業している場合、共有リンクは常に自動的に作成されます。通常は、**XXXXX.gradio.app**のようになります。リンクはgradioリンクを介して提供されますが、私たちはローカルサーバーのプロキシにすぎず、インターフェースを介して送信されたデータを保存しません。  \n",
        "\n",
        "\n",
        "\n",
        "ただし、これらのリンクは一般公開されているため、誰でもモデルを予測に使用できます。したがって、作成した関数を通じて機密情報を公開したり、デバイスで重大な変更が発生したりしないようにしてください。 share = False（デフォルト）を設定すると、ローカルリンクのみが作成され、**port-forwarding**によって特定のユーザーと共有できます。  \n",
        "\n",
        "Links expire after 6 hours. Need longer links, or private links?\n",
        "\n"
      ]
    },
    {
      "cell_type": "code",
      "metadata": {
        "id": "icy6XwqtpaFC",
        "colab_type": "code",
        "colab": {}
      },
      "source": [
        ""
      ],
      "execution_count": null,
      "outputs": []
    },
    {
      "cell_type": "code",
      "metadata": {
        "id": "ApX9IppWoqZa",
        "colab_type": "code",
        "colab": {}
      },
      "source": [
        ""
      ],
      "execution_count": null,
      "outputs": []
    }
  ]
}